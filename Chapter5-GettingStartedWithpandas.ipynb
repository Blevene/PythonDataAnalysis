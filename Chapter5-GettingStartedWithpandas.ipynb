{
 "metadata": {
  "name": "Chapter5-GettingStartedWithpandas"
 },
 "nbformat": 3,
 "nbformat_minor": 0,
 "worksheets": [
  {
   "cells": [
    {
     "cell_type": "code",
     "collapsed": false,
     "input": "# import conventions for pandas\nfrom pandas import Series, DataFrame\nimport pandas as pd",
     "language": "python",
     "metadata": {},
     "outputs": [],
     "prompt_number": 1
    },
    {
     "cell_type": "code",
     "collapsed": false,
     "input": "# Intro to pandas data structures\n#######################################################\n# Series\n\nobj = Series([4, 7, -5, 3]) # one-dimensional array-like object, with an associated array of\n                            # data labels, called its index\nobj",
     "language": "python",
     "metadata": {},
     "outputs": [
      {
       "metadata": {},
       "output_type": "pyout",
       "prompt_number": 2,
       "text": "0    4\n1    7\n2   -5\n3    3\ndtype: int64"
      }
     ],
     "prompt_number": 2
    },
    {
     "cell_type": "code",
     "collapsed": false,
     "input": "# Array representation of a series's values\nobj.values",
     "language": "python",
     "metadata": {},
     "outputs": [
      {
       "metadata": {},
       "output_type": "pyout",
       "prompt_number": 3,
       "text": "array([ 4,  7, -5,  3])"
      }
     ],
     "prompt_number": 3
    },
    {
     "cell_type": "code",
     "collapsed": false,
     "input": "# Array representation of a series' index\nobj.index",
     "language": "python",
     "metadata": {},
     "outputs": [
      {
       "metadata": {},
       "output_type": "pyout",
       "prompt_number": 4,
       "text": "Int64Index([0, 1, 2, 3], dtype=int64)"
      }
     ],
     "prompt_number": 4
    },
    {
     "cell_type": "code",
     "collapsed": false,
     "input": "# Create a Series with an index identifying each data point\nobj2 = Series([4, 7, -5, 3], index=['d', 'b', 'a', 'c'])\nobj2",
     "language": "python",
     "metadata": {},
     "outputs": [
      {
       "metadata": {},
       "output_type": "pyout",
       "prompt_number": 5,
       "text": "d    4\nb    7\na   -5\nc    3\ndtype: int64"
      }
     ],
     "prompt_number": 5
    },
    {
     "cell_type": "code",
     "collapsed": false,
     "input": "# Array of a series' index\nobj2.index",
     "language": "python",
     "metadata": {},
     "outputs": [
      {
       "metadata": {},
       "output_type": "pyout",
       "prompt_number": 6,
       "text": "Index([d, b, a, c], dtype=object)"
      }
     ],
     "prompt_number": 6
    },
    {
     "cell_type": "code",
     "collapsed": false,
     "input": "# Use a value of the index to select the corresponding value\nobj2['a']",
     "language": "python",
     "metadata": {},
     "outputs": [
      {
       "metadata": {},
       "output_type": "pyout",
       "prompt_number": 7,
       "text": "-5"
      }
     ],
     "prompt_number": 7
    },
    {
     "cell_type": "code",
     "collapsed": false,
     "input": "# Data in a Python dict can be used to created a Series\nsdata = {'Ohio': 35000, 'Texas': 71000, 'Oregon': 16000, 'Utah': 5000}\n\nobj3 = Series(sdata)\n\nobj3",
     "language": "python",
     "metadata": {},
     "outputs": [
      {
       "metadata": {},
       "output_type": "pyout",
       "prompt_number": 8,
       "text": "Ohio      35000\nOregon    16000\nTexas     71000\nUtah       5000\ndtype: int64"
      }
     ],
     "prompt_number": 8
    },
    {
     "cell_type": "code",
     "collapsed": false,
     "input": "# When only passing a dict, the index in the resulting Series\n# will have the dict's keys sorted order\nstates = ['California', 'Ohio', 'Oregon', 'Texas']\n\nobj4 = Series(sdata, index=states)\n\nobj4 ",
     "language": "python",
     "metadata": {},
     "outputs": [
      {
       "metadata": {},
       "output_type": "pyout",
       "prompt_number": 9,
       "text": "California      NaN\nOhio          35000\nOregon        16000\nTexas         71000\ndtype: float64"
      }
     ],
     "prompt_number": 9
    },
    {
     "cell_type": "code",
     "collapsed": false,
     "input": "# Since no value for California was found, NaN was used\n# You can use isnull or notnull to detect null values\n\npd.isnull(obj4) # identical to obj4.isnull()",
     "language": "python",
     "metadata": {},
     "outputs": [
      {
       "metadata": {},
       "output_type": "pyout",
       "prompt_number": 10,
       "text": "California     True\nOhio          False\nOregon        False\nTexas         False\ndtype: bool"
      }
     ],
     "prompt_number": 10
    },
    {
     "cell_type": "code",
     "collapsed": false,
     "input": "# Series automatically aligns differently indexed data in arithmetic operations\nobj3, obj4",
     "language": "python",
     "metadata": {},
     "outputs": [
      {
       "metadata": {},
       "output_type": "pyout",
       "prompt_number": 11,
       "text": "(Ohio      35000\nOregon    16000\nTexas     71000\nUtah       5000\ndtype: int64,\n California      NaN\nOhio          35000\nOregon        16000\nTexas         71000\ndtype: float64)"
      }
     ],
     "prompt_number": 11
    },
    {
     "cell_type": "code",
     "collapsed": false,
     "input": "# Arithmetic operation, resulting from automatically aligned Series\nobj3 + obj4",
     "language": "python",
     "metadata": {},
     "outputs": [
      {
       "metadata": {},
       "output_type": "pyout",
       "prompt_number": 12,
       "text": "California       NaN\nOhio           70000\nOregon         32000\nTexas         142000\nUtah             NaN\ndtype: float64"
      }
     ],
     "prompt_number": 12
    },
    {
     "cell_type": "code",
     "collapsed": false,
     "input": "###############DataFrame#######################\n# DataFrame is a representation of a tabular, spreadsheet-esque structure\n# One way to construct a DataFrame using a dict of equal length lists/NumPy arrays\ndata ={'state': ['Ohio', 'Ohio', 'Ohio', 'Nevada', 'Nevada'],\n       'year': [2000, 2001, 2002, 2001, 2002],\n       'pop': [1.5, 1.7, 3.6, 2.4, 2.9]}\nframe = DataFrame(data)\n\nframe",
     "language": "python",
     "metadata": {},
     "outputs": [
      {
       "html": "<div style=\"max-height:1000px;max-width:1500px;overflow:auto;\">\n<table border=\"1\" class=\"dataframe\">\n  <thead>\n    <tr style=\"text-align: right;\">\n      <th></th>\n      <th>pop</th>\n      <th>state</th>\n      <th>year</th>\n    </tr>\n  </thead>\n  <tbody>\n    <tr>\n      <th>0</th>\n      <td> 1.5</td>\n      <td>   Ohio</td>\n      <td> 2000</td>\n    </tr>\n    <tr>\n      <th>1</th>\n      <td> 1.7</td>\n      <td>   Ohio</td>\n      <td> 2001</td>\n    </tr>\n    <tr>\n      <th>2</th>\n      <td> 3.6</td>\n      <td>   Ohio</td>\n      <td> 2002</td>\n    </tr>\n    <tr>\n      <th>3</th>\n      <td> 2.4</td>\n      <td> Nevada</td>\n      <td> 2001</td>\n    </tr>\n    <tr>\n      <th>4</th>\n      <td> 2.9</td>\n      <td> Nevada</td>\n      <td> 2002</td>\n    </tr>\n  </tbody>\n</table>\n</div>",
       "metadata": {},
       "output_type": "pyout",
       "prompt_number": 13,
       "text": "   pop   state  year\n0  1.5    Ohio  2000\n1  1.7    Ohio  2001\n2  3.6    Ohio  2002\n3  2.4  Nevada  2001\n4  2.9  Nevada  2002"
      }
     ],
     "prompt_number": 13
    },
    {
     "cell_type": "code",
     "collapsed": false,
     "input": "# Specify a sequence of columns to change the display order\nDataFrame(data, columns=['year', 'state', 'pop'])",
     "language": "python",
     "metadata": {},
     "outputs": [
      {
       "html": "<div style=\"max-height:1000px;max-width:1500px;overflow:auto;\">\n<table border=\"1\" class=\"dataframe\">\n  <thead>\n    <tr style=\"text-align: right;\">\n      <th></th>\n      <th>year</th>\n      <th>state</th>\n      <th>pop</th>\n    </tr>\n  </thead>\n  <tbody>\n    <tr>\n      <th>0</th>\n      <td> 2000</td>\n      <td>   Ohio</td>\n      <td> 1.5</td>\n    </tr>\n    <tr>\n      <th>1</th>\n      <td> 2001</td>\n      <td>   Ohio</td>\n      <td> 1.7</td>\n    </tr>\n    <tr>\n      <th>2</th>\n      <td> 2002</td>\n      <td>   Ohio</td>\n      <td> 3.6</td>\n    </tr>\n    <tr>\n      <th>3</th>\n      <td> 2001</td>\n      <td> Nevada</td>\n      <td> 2.4</td>\n    </tr>\n    <tr>\n      <th>4</th>\n      <td> 2002</td>\n      <td> Nevada</td>\n      <td> 2.9</td>\n    </tr>\n  </tbody>\n</table>\n</div>",
       "metadata": {},
       "output_type": "pyout",
       "prompt_number": 14,
       "text": "   year   state  pop\n0  2000    Ohio  1.5\n1  2001    Ohio  1.7\n2  2002    Ohio  3.6\n3  2001  Nevada  2.4\n4  2002  Nevada  2.9"
      }
     ],
     "prompt_number": 14
    },
    {
     "cell_type": "code",
     "collapsed": false,
     "input": "# If a column is pased that isn't contained in data, it will appear as NaN values\nframe2 = DataFrame(data, columns=['year', 'state', 'pop', 'debt'],\n                   index=['one', 'two', 'three', 'four', 'five'])\n\nframe2",
     "language": "python",
     "metadata": {},
     "outputs": [
      {
       "html": "<div style=\"max-height:1000px;max-width:1500px;overflow:auto;\">\n<table border=\"1\" class=\"dataframe\">\n  <thead>\n    <tr style=\"text-align: right;\">\n      <th></th>\n      <th>year</th>\n      <th>state</th>\n      <th>pop</th>\n      <th>debt</th>\n    </tr>\n  </thead>\n  <tbody>\n    <tr>\n      <th>one</th>\n      <td> 2000</td>\n      <td>   Ohio</td>\n      <td> 1.5</td>\n      <td> NaN</td>\n    </tr>\n    <tr>\n      <th>two</th>\n      <td> 2001</td>\n      <td>   Ohio</td>\n      <td> 1.7</td>\n      <td> NaN</td>\n    </tr>\n    <tr>\n      <th>three</th>\n      <td> 2002</td>\n      <td>   Ohio</td>\n      <td> 3.6</td>\n      <td> NaN</td>\n    </tr>\n    <tr>\n      <th>four</th>\n      <td> 2001</td>\n      <td> Nevada</td>\n      <td> 2.4</td>\n      <td> NaN</td>\n    </tr>\n    <tr>\n      <th>five</th>\n      <td> 2002</td>\n      <td> Nevada</td>\n      <td> 2.9</td>\n      <td> NaN</td>\n    </tr>\n  </tbody>\n</table>\n</div>",
       "metadata": {},
       "output_type": "pyout",
       "prompt_number": 15,
       "text": "       year   state  pop debt\none    2000    Ohio  1.5  NaN\ntwo    2001    Ohio  1.7  NaN\nthree  2002    Ohio  3.6  NaN\nfour   2001  Nevada  2.4  NaN\nfive   2002  Nevada  2.9  NaN"
      }
     ],
     "prompt_number": 15
    },
    {
     "cell_type": "code",
     "collapsed": false,
     "input": "# Enumerate the column names\nframe2.columns",
     "language": "python",
     "metadata": {},
     "outputs": [
      {
       "metadata": {},
       "output_type": "pyout",
       "prompt_number": 16,
       "text": "Index([year, state, pop, debt], dtype=object)"
      }
     ],
     "prompt_number": 16
    },
    {
     "cell_type": "code",
     "collapsed": false,
     "input": "# column in DataFrame can be retrieved as a series\nframe2['state'] # eqivalent to frame2.year",
     "language": "python",
     "metadata": {},
     "outputs": [
      {
       "metadata": {},
       "output_type": "pyout",
       "prompt_number": 17,
       "text": "one        Ohio\ntwo        Ohio\nthree      Ohio\nfour     Nevada\nfive     Nevada\nName: state, dtype: object"
      }
     ],
     "prompt_number": 17
    },
    {
     "cell_type": "code",
     "collapsed": false,
     "input": "# Using the ix indexing field, one can return rows by method\nframe2.ix['three']",
     "language": "python",
     "metadata": {},
     "outputs": [
      {
       "metadata": {},
       "output_type": "pyout",
       "prompt_number": 18,
       "text": "year     2002\nstate    Ohio\npop       3.6\ndebt      NaN\nName: three, dtype: object"
      }
     ],
     "prompt_number": 18
    },
    {
     "cell_type": "code",
     "collapsed": false,
     "input": "# Columns can be modified by assignment\n# here, adding a scalar value to the empty 'debt'\nframe2['debt'] = 16.5\nframe2",
     "language": "python",
     "metadata": {},
     "outputs": [
      {
       "html": "<div style=\"max-height:1000px;max-width:1500px;overflow:auto;\">\n<table border=\"1\" class=\"dataframe\">\n  <thead>\n    <tr style=\"text-align: right;\">\n      <th></th>\n      <th>year</th>\n      <th>state</th>\n      <th>pop</th>\n      <th>debt</th>\n    </tr>\n  </thead>\n  <tbody>\n    <tr>\n      <th>one</th>\n      <td> 2000</td>\n      <td>   Ohio</td>\n      <td> 1.5</td>\n      <td> 16.5</td>\n    </tr>\n    <tr>\n      <th>two</th>\n      <td> 2001</td>\n      <td>   Ohio</td>\n      <td> 1.7</td>\n      <td> 16.5</td>\n    </tr>\n    <tr>\n      <th>three</th>\n      <td> 2002</td>\n      <td>   Ohio</td>\n      <td> 3.6</td>\n      <td> 16.5</td>\n    </tr>\n    <tr>\n      <th>four</th>\n      <td> 2001</td>\n      <td> Nevada</td>\n      <td> 2.4</td>\n      <td> 16.5</td>\n    </tr>\n    <tr>\n      <th>five</th>\n      <td> 2002</td>\n      <td> Nevada</td>\n      <td> 2.9</td>\n      <td> 16.5</td>\n    </tr>\n  </tbody>\n</table>\n</div>",
       "metadata": {},
       "output_type": "pyout",
       "prompt_number": 20,
       "text": "       year   state  pop  debt\none    2000    Ohio  1.5  16.5\ntwo    2001    Ohio  1.7  16.5\nthree  2002    Ohio  3.6  16.5\nfour   2001  Nevada  2.4  16.5\nfive   2002  Nevada  2.9  16.5"
      }
     ],
     "prompt_number": 20
    },
    {
     "cell_type": "code",
     "collapsed": false,
     "input": "# Modifying the debt column again, this time with a non static scalar but a range\nframe2['debt'] = np.arange(5.)\nframe2",
     "language": "python",
     "metadata": {},
     "outputs": [
      {
       "html": "<div style=\"max-height:1000px;max-width:1500px;overflow:auto;\">\n<table border=\"1\" class=\"dataframe\">\n  <thead>\n    <tr style=\"text-align: right;\">\n      <th></th>\n      <th>year</th>\n      <th>state</th>\n      <th>pop</th>\n      <th>debt</th>\n    </tr>\n  </thead>\n  <tbody>\n    <tr>\n      <th>one</th>\n      <td> 2000</td>\n      <td>   Ohio</td>\n      <td> 1.5</td>\n      <td> 0</td>\n    </tr>\n    <tr>\n      <th>two</th>\n      <td> 2001</td>\n      <td>   Ohio</td>\n      <td> 1.7</td>\n      <td> 1</td>\n    </tr>\n    <tr>\n      <th>three</th>\n      <td> 2002</td>\n      <td>   Ohio</td>\n      <td> 3.6</td>\n      <td> 2</td>\n    </tr>\n    <tr>\n      <th>four</th>\n      <td> 2001</td>\n      <td> Nevada</td>\n      <td> 2.4</td>\n      <td> 3</td>\n    </tr>\n    <tr>\n      <th>five</th>\n      <td> 2002</td>\n      <td> Nevada</td>\n      <td> 2.9</td>\n      <td> 4</td>\n    </tr>\n  </tbody>\n</table>\n</div>",
       "metadata": {},
       "output_type": "pyout",
       "prompt_number": 21,
       "text": "       year   state  pop  debt\none    2000    Ohio  1.5     0\ntwo    2001    Ohio  1.7     1\nthree  2002    Ohio  3.6     2\nfour   2001  Nevada  2.4     3\nfive   2002  Nevada  2.9     4"
      }
     ],
     "prompt_number": 21
    },
    {
     "cell_type": "code",
     "collapsed": false,
     "input": "# When assigning lists or arrays to a column, the value's length\n# must match the length of the DataFrame. Assigning a Series forces conformation exactly\n# to the DataFrame's index, missing values are fileld into holes\n\nval = Series([-1.2, -1.5, -1.7], index=['two', 'four', 'five'])\nframe2['debt'] = val\nframe2",
     "language": "python",
     "metadata": {},
     "outputs": [
      {
       "html": "<div style=\"max-height:1000px;max-width:1500px;overflow:auto;\">\n<table border=\"1\" class=\"dataframe\">\n  <thead>\n    <tr style=\"text-align: right;\">\n      <th></th>\n      <th>year</th>\n      <th>state</th>\n      <th>pop</th>\n      <th>debt</th>\n    </tr>\n  </thead>\n  <tbody>\n    <tr>\n      <th>one</th>\n      <td> 2000</td>\n      <td>   Ohio</td>\n      <td> 1.5</td>\n      <td> NaN</td>\n    </tr>\n    <tr>\n      <th>two</th>\n      <td> 2001</td>\n      <td>   Ohio</td>\n      <td> 1.7</td>\n      <td>-1.2</td>\n    </tr>\n    <tr>\n      <th>three</th>\n      <td> 2002</td>\n      <td>   Ohio</td>\n      <td> 3.6</td>\n      <td> NaN</td>\n    </tr>\n    <tr>\n      <th>four</th>\n      <td> 2001</td>\n      <td> Nevada</td>\n      <td> 2.4</td>\n      <td>-1.5</td>\n    </tr>\n    <tr>\n      <th>five</th>\n      <td> 2002</td>\n      <td> Nevada</td>\n      <td> 2.9</td>\n      <td>-1.7</td>\n    </tr>\n  </tbody>\n</table>\n</div>",
       "metadata": {},
       "output_type": "pyout",
       "prompt_number": 22,
       "text": "       year   state  pop  debt\none    2000    Ohio  1.5   NaN\ntwo    2001    Ohio  1.7  -1.2\nthree  2002    Ohio  3.6   NaN\nfour   2001  Nevada  2.4  -1.5\nfive   2002  Nevada  2.9  -1.7"
      }
     ],
     "prompt_number": 22
    },
    {
     "cell_type": "code",
     "collapsed": false,
     "input": "# Assigning a column that doesn't exist creates a new column\nframe2['eastern'] = frame2.state == 'Ohio'\nframe2",
     "language": "python",
     "metadata": {},
     "outputs": [
      {
       "html": "<div style=\"max-height:1000px;max-width:1500px;overflow:auto;\">\n<table border=\"1\" class=\"dataframe\">\n  <thead>\n    <tr style=\"text-align: right;\">\n      <th></th>\n      <th>year</th>\n      <th>state</th>\n      <th>pop</th>\n      <th>debt</th>\n      <th>eastern</th>\n    </tr>\n  </thead>\n  <tbody>\n    <tr>\n      <th>one</th>\n      <td> 2000</td>\n      <td>   Ohio</td>\n      <td> 1.5</td>\n      <td> NaN</td>\n      <td>  True</td>\n    </tr>\n    <tr>\n      <th>two</th>\n      <td> 2001</td>\n      <td>   Ohio</td>\n      <td> 1.7</td>\n      <td>-1.2</td>\n      <td>  True</td>\n    </tr>\n    <tr>\n      <th>three</th>\n      <td> 2002</td>\n      <td>   Ohio</td>\n      <td> 3.6</td>\n      <td> NaN</td>\n      <td>  True</td>\n    </tr>\n    <tr>\n      <th>four</th>\n      <td> 2001</td>\n      <td> Nevada</td>\n      <td> 2.4</td>\n      <td>-1.5</td>\n      <td> False</td>\n    </tr>\n    <tr>\n      <th>five</th>\n      <td> 2002</td>\n      <td> Nevada</td>\n      <td> 2.9</td>\n      <td>-1.7</td>\n      <td> False</td>\n    </tr>\n  </tbody>\n</table>\n</div>",
       "metadata": {},
       "output_type": "pyout",
       "prompt_number": 23,
       "text": "       year   state  pop  debt eastern\none    2000    Ohio  1.5   NaN    True\ntwo    2001    Ohio  1.7  -1.2    True\nthree  2002    Ohio  3.6   NaN    True\nfour   2001  Nevada  2.4  -1.5   False\nfive   2002  Nevada  2.9  -1.7   False"
      }
     ],
     "prompt_number": 23
    },
    {
     "cell_type": "code",
     "collapsed": false,
     "input": "# del will delete column(s) like in a dict\ndel frame2['eastern']\nframe2.columns",
     "language": "python",
     "metadata": {},
     "outputs": [
      {
       "metadata": {},
       "output_type": "pyout",
       "prompt_number": 24,
       "text": "Index([year, state, pop, debt], dtype=object)"
      }
     ],
     "prompt_number": 24
    },
    {
     "cell_type": "code",
     "collapsed": false,
     "input": "# Another common form of data is a nested dict of dicts\npop = {'Nevada': {2001: 2.4, 2002: 2.9},\n       'Ohio': {2000: 1.5, 2001: 1.7, 2002: 3.6}}\nframe3 = DataFrame(pop)\n\nframe3",
     "language": "python",
     "metadata": {},
     "outputs": [
      {
       "html": "<div style=\"max-height:1000px;max-width:1500px;overflow:auto;\">\n<table border=\"1\" class=\"dataframe\">\n  <thead>\n    <tr style=\"text-align: right;\">\n      <th></th>\n      <th>Nevada</th>\n      <th>Ohio</th>\n    </tr>\n  </thead>\n  <tbody>\n    <tr>\n      <th>2000</th>\n      <td> NaN</td>\n      <td> 1.5</td>\n    </tr>\n    <tr>\n      <th>2001</th>\n      <td> 2.4</td>\n      <td> 1.7</td>\n    </tr>\n    <tr>\n      <th>2002</th>\n      <td> 2.9</td>\n      <td> 3.6</td>\n    </tr>\n  </tbody>\n</table>\n</div>",
       "metadata": {},
       "output_type": "pyout",
       "prompt_number": 26,
       "text": "      Nevada  Ohio\n2000     NaN   1.5\n2001     2.4   1.7\n2002     2.9   3.6"
      }
     ],
     "prompt_number": 26
    },
    {
     "cell_type": "code",
     "collapsed": false,
     "input": "# Transposing the result\nframe3.T",
     "language": "python",
     "metadata": {},
     "outputs": [
      {
       "html": "<div style=\"max-height:1000px;max-width:1500px;overflow:auto;\">\n<table border=\"1\" class=\"dataframe\">\n  <thead>\n    <tr style=\"text-align: right;\">\n      <th></th>\n      <th>2000</th>\n      <th>2001</th>\n      <th>2002</th>\n    </tr>\n  </thead>\n  <tbody>\n    <tr>\n      <th>Nevada</th>\n      <td> NaN</td>\n      <td> 2.4</td>\n      <td> 2.9</td>\n    </tr>\n    <tr>\n      <th>Ohio</th>\n      <td> 1.5</td>\n      <td> 1.7</td>\n      <td> 3.6</td>\n    </tr>\n  </tbody>\n</table>\n</div>",
       "metadata": {},
       "output_type": "pyout",
       "prompt_number": 27,
       "text": "        2000  2001  2002\nNevada   NaN   2.4   2.9\nOhio     1.5   1.7   3.6"
      }
     ],
     "prompt_number": 27
    },
    {
     "cell_type": "code",
     "collapsed": false,
     "input": "# The keys in the inner dicts are unioned and sorted to form the index of hte result\n# If an explicit index is specificed, that doesn't occur\nDataFrame(pop, index=[2001, 2002, 2003])",
     "language": "python",
     "metadata": {},
     "outputs": [
      {
       "html": "<div style=\"max-height:1000px;max-width:1500px;overflow:auto;\">\n<table border=\"1\" class=\"dataframe\">\n  <thead>\n    <tr style=\"text-align: right;\">\n      <th></th>\n      <th>Nevada</th>\n      <th>Ohio</th>\n    </tr>\n  </thead>\n  <tbody>\n    <tr>\n      <th>2001</th>\n      <td> 2.4</td>\n      <td> 1.7</td>\n    </tr>\n    <tr>\n      <th>2002</th>\n      <td> 2.9</td>\n      <td> 3.6</td>\n    </tr>\n    <tr>\n      <th>2003</th>\n      <td> NaN</td>\n      <td> NaN</td>\n    </tr>\n  </tbody>\n</table>\n</div>",
       "metadata": {},
       "output_type": "pyout",
       "prompt_number": 28,
       "text": "      Nevada  Ohio\n2001     2.4   1.7\n2002     2.9   3.6\n2003     NaN   NaN"
      }
     ],
     "prompt_number": 28
    },
    {
     "cell_type": "code",
     "collapsed": false,
     "input": "# The behavior is similar for a Dict of Series\npdata = {'Ohio': frame3['Ohio'][:2],\n         'Nevada': frame3['Nevada'][:-1]}\n\nDataFrame(pdata)",
     "language": "python",
     "metadata": {},
     "outputs": [
      {
       "html": "<div style=\"max-height:1000px;max-width:1500px;overflow:auto;\">\n<table border=\"1\" class=\"dataframe\">\n  <thead>\n    <tr style=\"text-align: right;\">\n      <th></th>\n      <th>Nevada</th>\n      <th>Ohio</th>\n    </tr>\n  </thead>\n  <tbody>\n    <tr>\n      <th>2000</th>\n      <td> NaN</td>\n      <td> 1.5</td>\n    </tr>\n    <tr>\n      <th>2001</th>\n      <td> 2.4</td>\n      <td> 1.7</td>\n    </tr>\n  </tbody>\n</table>\n</div>",
       "metadata": {},
       "output_type": "pyout",
       "prompt_number": 35,
       "text": "      Nevada  Ohio\n2000     NaN   1.5\n2001     2.4   1.7"
      }
     ],
     "prompt_number": 35
    },
    {
     "cell_type": "code",
     "collapsed": false,
     "input": "#",
     "language": "python",
     "metadata": {},
     "outputs": []
    }
   ],
   "metadata": {}
  }
 ]
}