{
 "metadata": {
  "name": ""
 },
 "nbformat": 3,
 "nbformat_minor": 0,
 "worksheets": [
  {
   "cells": [
    {
     "cell_type": "code",
     "collapsed": false,
     "input": [
      "import numpy as np"
     ],
     "language": "python",
     "metadata": {},
     "outputs": [],
     "prompt_number": 2
    },
    {
     "cell_type": "code",
     "collapsed": false,
     "input": [
      "np.zeros(10)"
     ],
     "language": "python",
     "metadata": {},
     "outputs": [
      {
       "metadata": {},
       "output_type": "pyout",
       "prompt_number": 3,
       "text": [
        "array([ 0.,  0.,  0.,  0.,  0.,  0.,  0.,  0.,  0.,  0.])"
       ]
      }
     ],
     "prompt_number": 3
    },
    {
     "cell_type": "code",
     "collapsed": false,
     "input": [
      "np.ones(10)"
     ],
     "language": "python",
     "metadata": {},
     "outputs": [
      {
       "metadata": {},
       "output_type": "pyout",
       "prompt_number": 4,
       "text": [
        "array([ 1.,  1.,  1.,  1.,  1.,  1.,  1.,  1.,  1.,  1.])"
       ]
      }
     ],
     "prompt_number": 4
    },
    {
     "cell_type": "code",
     "collapsed": false,
     "input": [
      "#Create an array of 0s matching the given tuple\n",
      "np.zeros((3, 2))"
     ],
     "language": "python",
     "metadata": {},
     "outputs": [
      {
       "metadata": {},
       "output_type": "pyout",
       "prompt_number": 8,
       "text": [
        "array([[ 0.,  0.],\n",
        "       [ 0.,  0.],\n",
        "       [ 0.,  0.]])"
       ]
      }
     ],
     "prompt_number": 8
    },
    {
     "cell_type": "code",
     "collapsed": false,
     "input": [
      "# create an array of values (Max NOT included)\n",
      "np.arange(4, 15)"
     ],
     "language": "python",
     "metadata": {},
     "outputs": [
      {
       "metadata": {},
       "output_type": "pyout",
       "prompt_number": 12,
       "text": [
        "array([ 4,  5,  6,  7,  8,  9, 10, 11, 12, 13, 14])"
       ]
      }
     ],
     "prompt_number": 12
    },
    {
     "cell_type": "code",
     "collapsed": false,
     "input": [
      "# Vectorization Examples\n",
      "arr = np.array([[1., 2., 3], [4., 5.,6.]])\n",
      "arr"
     ],
     "language": "python",
     "metadata": {},
     "outputs": [
      {
       "metadata": {},
       "output_type": "pyout",
       "prompt_number": 13,
       "text": [
        "array([[ 1.,  2.,  3.],\n",
        "       [ 4.,  5.,  6.]])"
       ]
      }
     ],
     "prompt_number": 13
    },
    {
     "cell_type": "code",
     "collapsed": false,
     "input": [
      "# Vectorization Operations\n",
      "arr * arr"
     ],
     "language": "python",
     "metadata": {},
     "outputs": [
      {
       "metadata": {},
       "output_type": "pyout",
       "prompt_number": 15,
       "text": [
        "array([[  1.,   4.,   9.],\n",
        "       [ 16.,  25.,  36.]])"
       ]
      }
     ],
     "prompt_number": 15
    },
    {
     "cell_type": "code",
     "collapsed": false,
     "input": [
      "# Vectorization Operations\n",
      "arr - arr"
     ],
     "language": "python",
     "metadata": {},
     "outputs": [
      {
       "metadata": {},
       "output_type": "pyout",
       "prompt_number": 16,
       "text": [
        "array([[ 0.,  0.,  0.],\n",
        "       [ 0.,  0.,  0.]])"
       ]
      }
     ],
     "prompt_number": 16
    },
    {
     "cell_type": "code",
     "collapsed": false,
     "input": [
      "# Arithmetic operatiosn with scalars\n",
      "1 / arr"
     ],
     "language": "python",
     "metadata": {},
     "outputs": [
      {
       "metadata": {},
       "output_type": "pyout",
       "prompt_number": 17,
       "text": [
        "array([[ 1.        ,  0.5       ,  0.33333333],\n",
        "       [ 0.25      ,  0.2       ,  0.16666667]])"
       ]
      }
     ],
     "prompt_number": 17
    },
    {
     "cell_type": "code",
     "collapsed": false,
     "input": [
      "# More arithmetic operations with scalars\n",
      "arr ** 0.5"
     ],
     "language": "python",
     "metadata": {},
     "outputs": [
      {
       "metadata": {},
       "output_type": "pyout",
       "prompt_number": 19,
       "text": [
        "array([[ 1.        ,  1.41421356,  1.73205081],\n",
        "       [ 2.        ,  2.23606798,  2.44948974]])"
       ]
      }
     ],
     "prompt_number": 19
    },
    {
     "cell_type": "code",
     "collapsed": false,
     "input": [
      "# Indexing and Slicing\n",
      "######################################################################\n",
      "arr = np.arange(10)\n",
      "arr"
     ],
     "language": "python",
     "metadata": {},
     "outputs": [
      {
       "metadata": {},
       "output_type": "pyout",
       "prompt_number": 30,
       "text": [
        "array([0, 1, 2, 3, 4, 5, 6, 7, 8, 9])"
       ]
      }
     ],
     "prompt_number": 30
    },
    {
     "cell_type": "code",
     "collapsed": false,
     "input": [
      "arr[5]"
     ],
     "language": "python",
     "metadata": {},
     "outputs": [
      {
       "metadata": {},
       "output_type": "pyout",
       "prompt_number": 21,
       "text": [
        "5"
       ]
      }
     ],
     "prompt_number": 21
    },
    {
     "cell_type": "code",
     "collapsed": false,
     "input": [
      "arr[5:8]"
     ],
     "language": "python",
     "metadata": {},
     "outputs": [
      {
       "metadata": {},
       "output_type": "pyout",
       "prompt_number": 23,
       "text": [
        "array([5, 6, 7])"
       ]
      }
     ],
     "prompt_number": 23
    },
    {
     "cell_type": "code",
     "collapsed": false,
     "input": [
      "# Broadcasting a scalar value to the entire slice that is selected\n",
      "arr[5:8] = 12\n",
      "arr"
     ],
     "language": "python",
     "metadata": {},
     "outputs": [
      {
       "metadata": {},
       "output_type": "pyout",
       "prompt_number": 32,
       "text": [
        "array([ 0,  1,  2,  3,  4, 12, 12, 12,  8,  9])"
       ]
      }
     ],
     "prompt_number": 32
    },
    {
     "cell_type": "code",
     "collapsed": false,
     "input": [
      "# Array slices are VIEWS on the original array\n",
      "# the data is not copied, any modifications will be reflected in the source array\n",
      "arr_slice = arr[5:8]\n",
      "# Replace the 2nd (value 1, the array is 0 indexed) value in arr_slice with 12345\n",
      "arr_slice[1] = 12345\n",
      "arr"
     ],
     "language": "python",
     "metadata": {},
     "outputs": [
      {
       "metadata": {},
       "output_type": "pyout",
       "prompt_number": 35,
       "text": [
        "array([    0,     1,     2,     3,     4,    12, 12345,    12,     8,     9])"
       ]
      }
     ],
     "prompt_number": 35
    },
    {
     "cell_type": "code",
     "collapsed": false,
     "input": [
      "# Replace the values selected by arr_slice (5:8 in arr) with 64\n",
      "arr_slice[:] = 64\n",
      "arr"
     ],
     "language": "python",
     "metadata": {},
     "outputs": [
      {
       "metadata": {},
       "output_type": "pyout",
       "prompt_number": 38,
       "text": [
        "array([ 0,  1,  2,  3,  4, 64, 64, 64,  8,  9])"
       ]
      }
     ],
     "prompt_number": 38
    },
    {
     "cell_type": "code",
     "collapsed": false,
     "input": [
      "# Now with 2d arrays\n",
      "arr2d = np.array([[1, 2, 3], [4, 5, 6], [7, 8, 9]])\n",
      "# Select the 3rd (arr2d[2], zero indexing!) element\n",
      "arr2d[2]"
     ],
     "language": "python",
     "metadata": {},
     "outputs": [
      {
       "metadata": {},
       "output_type": "pyout",
       "prompt_number": 132,
       "text": [
        "array([7, 8, 9])"
       ]
      }
     ],
     "prompt_number": 132
    },
    {
     "cell_type": "code",
     "collapsed": false,
     "input": [
      "# The following operations are equivalent\n",
      "# Access the first (index 0) element and select the third entry (index 2)\n",
      "arr2d[0][2]"
     ],
     "language": "python",
     "metadata": {},
     "outputs": [
      {
       "metadata": {},
       "output_type": "pyout",
       "prompt_number": 51,
       "text": [
        "3"
       ]
      }
     ],
     "prompt_number": 51
    },
    {
     "cell_type": "code",
     "collapsed": false,
     "input": [
      "# Equivalent to the above\n",
      "arr2d[0, 2]"
     ],
     "language": "python",
     "metadata": {},
     "outputs": [
      {
       "metadata": {},
       "output_type": "pyout",
       "prompt_number": 53,
       "text": [
        "3"
       ]
      }
     ],
     "prompt_number": 53
    },
    {
     "cell_type": "code",
     "collapsed": false,
     "input": [
      "# Create a 2 x 2 x3 Array\n",
      "arr3d = np.array([[[1, 2, 3], [4, 5, 6]], [[7, 8, 9], [10, 11, 12]]])\n",
      "arr3d"
     ],
     "language": "python",
     "metadata": {},
     "outputs": [
      {
       "metadata": {},
       "output_type": "pyout",
       "prompt_number": 65,
       "text": [
        "array([[[ 1,  2,  3],\n",
        "        [ 4,  5,  6]],\n",
        "\n",
        "       [[ 7,  8,  9],\n",
        "        [10, 11, 12]]])"
       ]
      }
     ],
     "prompt_number": 65
    },
    {
     "cell_type": "code",
     "collapsed": false,
     "input": [
      "# Carve a 2 x 3 array from the above\n",
      "arr3d[0]"
     ],
     "language": "python",
     "metadata": {},
     "outputs": [
      {
       "metadata": {},
       "output_type": "pyout",
       "prompt_number": 66,
       "text": [
        "array([[1, 2, 3],\n",
        "       [4, 5, 6]])"
       ]
      }
     ],
     "prompt_number": 66
    },
    {
     "cell_type": "code",
     "collapsed": false,
     "input": [
      "# Assign Scalar values or arrays\n",
      "old_values = arr3d[0].copy()\n",
      "arr3d[0] = 42\n",
      "arr3d"
     ],
     "language": "python",
     "metadata": {},
     "outputs": [
      {
       "metadata": {},
       "output_type": "pyout",
       "prompt_number": 67,
       "text": [
        "array([[[42, 42, 42],\n",
        "        [42, 42, 42]],\n",
        "\n",
        "       [[ 7,  8,  9],\n",
        "        [10, 11, 12]]])"
       ]
      }
     ],
     "prompt_number": 67
    },
    {
     "cell_type": "code",
     "collapsed": false,
     "input": [
      "# Broadcast arr3d[0] original values (copied above) to old_values\n",
      "# to replace the scalar value, 42, assigned to arr3d[0] above\n",
      "arr3d[0] = old_values\n",
      "arr3d"
     ],
     "language": "python",
     "metadata": {},
     "outputs": [
      {
       "metadata": {},
       "output_type": "pyout",
       "prompt_number": 69,
       "text": [
        "array([[[ 1,  2,  3],\n",
        "        [ 4,  5,  6]],\n",
        "\n",
        "       [[ 7,  8,  9],\n",
        "        [10, 11, 12]]])"
       ]
      }
     ],
     "prompt_number": 69
    },
    {
     "cell_type": "code",
     "collapsed": false,
     "input": [
      "# Return a 1 dimensional array of the composed of the 2nd set of elements\n",
      "# and the entire set of data stored in the first (index 0) row\n",
      "arr3d[1, 0]"
     ],
     "language": "python",
     "metadata": {},
     "outputs": [
      {
       "metadata": {},
       "output_type": "pyout",
       "prompt_number": 76,
       "text": [
        "array([7, 8, 9])"
       ]
      }
     ],
     "prompt_number": 76
    },
    {
     "cell_type": "code",
     "collapsed": false,
     "input": [
      "# Indexing using slices, see original \"arr\" above\n",
      "#################################################\n",
      "arr[1:6]"
     ],
     "language": "python",
     "metadata": {},
     "outputs": [
      {
       "metadata": {},
       "output_type": "pyout",
       "prompt_number": 78,
       "text": [
        "array([ 1,  2,  3,  4, 64])"
       ]
      }
     ],
     "prompt_number": 78
    },
    {
     "cell_type": "code",
     "collapsed": false,
     "input": [
      "arr2d"
     ],
     "language": "python",
     "metadata": {},
     "outputs": [
      {
       "metadata": {},
       "output_type": "pyout",
       "prompt_number": 79,
       "text": [
        "array([[1, 2, 3],\n",
        "       [4, 5, 6],\n",
        "       [7, 8, 9]])"
       ]
      }
     ],
     "prompt_number": 79
    },
    {
     "cell_type": "code",
     "collapsed": false,
     "input": [
      "# Higher dimensional objects have slices selected along an axis\n",
      "# A range of elements is selected, multiple slices can be selected\n",
      "arr2d[1:] # Select all rows from the 2nd till the end (index 0)"
     ],
     "language": "python",
     "metadata": {},
     "outputs": [
      {
       "metadata": {},
       "output_type": "pyout",
       "prompt_number": 82,
       "text": [
        "array([[4, 5, 6],\n",
        "       [7, 8, 9]])"
       ]
      }
     ],
     "prompt_number": 82
    },
    {
     "cell_type": "code",
     "collapsed": false,
     "input": [
      "arr2d[1:, :2] # Select elements from the 2nd (index 0) row and down\n",
      "# and select elements up to the 3rd (index 0) and right\n",
      "# When slicing like this, you always get arrays with the same number of dimensions"
     ],
     "language": "python",
     "metadata": {},
     "outputs": [
      {
       "metadata": {},
       "output_type": "pyout",
       "prompt_number": 113,
       "text": [
        "array([[4, 5],\n",
        "       [7, 8]])"
       ]
      }
     ],
     "prompt_number": 113
    },
    {
     "cell_type": "code",
     "collapsed": false,
     "input": [
      "# To slice and get lower dimensional arrays\n",
      "arr2d[2, :1] # Select third row (index 0) up to but not including the second [1] element\n",
      "# thus only the 1st [0] element is selected"
     ],
     "language": "python",
     "metadata": {},
     "outputs": [
      {
       "metadata": {},
       "output_type": "pyout",
       "prompt_number": 121,
       "text": [
        "array([7])"
       ]
      }
     ],
     "prompt_number": 121
    },
    {
     "cell_type": "code",
     "collapsed": false,
     "input": [
      "arr2d[:, :1]# a \":\" means to slice across an entire axis (in this case, down)"
     ],
     "language": "python",
     "metadata": {},
     "outputs": [
      {
       "metadata": {},
       "output_type": "pyout",
       "prompt_number": 141,
       "text": [
        "array([[1],\n",
        "       [4],\n",
        "       [7]])"
       ]
      }
     ],
     "prompt_number": 141
    },
    {
     "cell_type": "code",
     "collapsed": false,
     "input": [
      "# assigning a slice expression assigns to the whole section\n",
      "arr2d[:2, 1:] = 0 # 2 Down, 1 and higher across = 0\n",
      "arr2d"
     ],
     "language": "python",
     "metadata": {},
     "outputs": [
      {
       "metadata": {},
       "output_type": "pyout",
       "prompt_number": 142,
       "text": [
        "array([[1, 0, 0],\n",
        "       [4, 0, 0],\n",
        "       [7, 8, 9]])"
       ]
      }
     ],
     "prompt_number": 142
    },
    {
     "cell_type": "code",
     "collapsed": false,
     "input": [
      "# Boolean Indexing\n",
      "############################################################################\n",
      "names = np.array(['Bob', 'Joe', 'Will', 'Bob', 'Will', 'Joe', 'Joe',])\n",
      "data = randn(7, 4) # Generate random, normally distributed data\n",
      "names"
     ],
     "language": "python",
     "metadata": {},
     "outputs": [
      {
       "metadata": {},
       "output_type": "pyout",
       "prompt_number": 150,
       "text": [
        "array(['Bob', 'Joe', 'Will', 'Bob', 'Will', 'Joe', 'Joe'], \n",
        "      dtype='|S4')"
       ]
      }
     ],
     "prompt_number": 150
    },
    {
     "cell_type": "code",
     "collapsed": false,
     "input": [
      "# The data array (initialized above)\n",
      "data"
     ],
     "language": "python",
     "metadata": {},
     "outputs": [
      {
       "metadata": {},
       "output_type": "pyout",
       "prompt_number": 151,
       "text": [
        "array([[ 1.17885344, -1.50212405,  0.77661589, -0.3464565 ],\n",
        "       [ 0.41334492,  2.15893771,  0.33924324, -1.7680597 ],\n",
        "       [ 1.74416031,  1.27123593, -1.20567735,  0.97703532],\n",
        "       [ 0.66524787, -0.36161447,  0.34277504, -0.70540337],\n",
        "       [-1.05303792, -0.58001563,  0.2783455 ,  0.82836508],\n",
        "       [-0.70059106,  0.21967453, -0.35661532, -0.16648323],\n",
        "       [-1.54212612,  0.85539005,  1.63319157,  0.36799864]])"
       ]
      }
     ],
     "prompt_number": 151
    },
    {
     "cell_type": "code",
     "collapsed": false,
     "input": [
      "# Comparisons in an array\n",
      "names == 'Bob'"
     ],
     "language": "python",
     "metadata": {},
     "outputs": [
      {
       "metadata": {},
       "output_type": "pyout",
       "prompt_number": 152,
       "text": [
        "array([ True, False, False,  True, False, False, False], dtype=bool)"
       ]
      }
     ],
     "prompt_number": 152
    },
    {
     "cell_type": "code",
     "collapsed": false,
     "input": [
      "# Pass the boolean array while indexing the data array\n",
      "# I.E. Select entries in data where Bob is true thus at [0] and [3]\n",
      "# Repeat the cycle until reachign the end of the array\n",
      "# The results are [0] and [3] of each column of data\n",
      "data[names == 'Bob']"
     ],
     "language": "python",
     "metadata": {},
     "outputs": [
      {
       "metadata": {},
       "output_type": "pyout",
       "prompt_number": 158,
       "text": [
        "array([[ 1.17885344, -1.50212405,  0.77661589, -0.3464565 ],\n",
        "       [ 0.66524787, -0.36161447,  0.34277504, -0.70540337]])"
       ]
      }
     ],
     "prompt_number": 158
    },
    {
     "cell_type": "code",
     "collapsed": false,
     "input": [
      "# Mix boolean arrays with slices + integers\n",
      "# Select [2] column and higer (inclusive) and display [0] and [3] values\n",
      "data[names == 'Bob', 2:]"
     ],
     "language": "python",
     "metadata": {},
     "outputs": [
      {
       "metadata": {},
       "output_type": "pyout",
       "prompt_number": 160,
       "text": [
        "array([[ 0.77661589, -0.3464565 ],\n",
        "       [ 0.34277504, -0.70540337]])"
       ]
      }
     ],
     "prompt_number": 160
    },
    {
     "cell_type": "code",
     "collapsed": false,
     "input": [
      "# Lets select everything but Bob\n",
      "names != 'Bob'"
     ],
     "language": "python",
     "metadata": {},
     "outputs": [
      {
       "metadata": {},
       "output_type": "pyout",
       "prompt_number": 162,
       "text": [
        "array([False,  True,  True, False,  True,  True,  True], dtype=bool)"
       ]
      }
     ],
     "prompt_number": 162
    },
    {
     "cell_type": "code",
     "collapsed": false,
     "input": [
      "# And the same for the indexed array\n",
      "data[-(names == 'Bob')]"
     ],
     "language": "python",
     "metadata": {},
     "outputs": [
      {
       "metadata": {},
       "output_type": "pyout",
       "prompt_number": 164,
       "text": [
        "array([[ 0.41334492,  2.15893771,  0.33924324, -1.7680597 ],\n",
        "       [ 1.74416031,  1.27123593, -1.20567735,  0.97703532],\n",
        "       [-1.05303792, -0.58001563,  0.2783455 ,  0.82836508],\n",
        "       [-0.70059106,  0.21967453, -0.35661532, -0.16648323],\n",
        "       [-1.54212612,  0.85539005,  1.63319157,  0.36799864]])"
       ]
      }
     ],
     "prompt_number": 164
    },
    {
     "cell_type": "code",
     "collapsed": false,
     "input": [
      "# Select multiple names to combine multiple bool conditions\n",
      "mask = (names == 'Bob') | (names == 'Will')\n",
      "mask"
     ],
     "language": "python",
     "metadata": {},
     "outputs": [
      {
       "metadata": {},
       "output_type": "pyout",
       "prompt_number": 167,
       "text": [
        "array([ True, False,  True,  True,  True, False, False], dtype=bool)"
       ]
      }
     ],
     "prompt_number": 167
    },
    {
     "cell_type": "code",
     "collapsed": false,
     "input": [
      "# Perform the same operation for the indexed array\n",
      "# Return values of the array \"data\" where Bob or Will\n",
      "# is true for the array names (overlaid arrays used to index)\n",
      "data[mask]"
     ],
     "language": "python",
     "metadata": {},
     "outputs": [
      {
       "metadata": {},
       "output_type": "pyout",
       "prompt_number": 168,
       "text": [
        "array([[ 1.17885344, -1.50212405,  0.77661589, -0.3464565 ],\n",
        "       [ 1.74416031,  1.27123593, -1.20567735,  0.97703532],\n",
        "       [ 0.66524787, -0.36161447,  0.34277504, -0.70540337],\n",
        "       [-1.05303792, -0.58001563,  0.2783455 ,  0.82836508]])"
       ]
      }
     ],
     "prompt_number": 168
    },
    {
     "cell_type": "code",
     "collapsed": false,
     "input": [
      "# Set a value in a common-sense way, let set all negative values in the array data to 0\n",
      "data[data < 0] = 0\n",
      "data"
     ],
     "language": "python",
     "metadata": {},
     "outputs": [
      {
       "metadata": {},
       "output_type": "pyout",
       "prompt_number": 171,
       "text": [
        "array([[ 1.17885344,  0.        ,  0.77661589,  0.        ],\n",
        "       [ 0.41334492,  2.15893771,  0.33924324,  0.        ],\n",
        "       [ 1.74416031,  1.27123593,  0.        ,  0.97703532],\n",
        "       [ 0.66524787,  0.        ,  0.34277504,  0.        ],\n",
        "       [ 0.        ,  0.        ,  0.2783455 ,  0.82836508],\n",
        "       [ 0.        ,  0.21967453,  0.        ,  0.        ],\n",
        "       [ 0.        ,  0.85539005,  1.63319157,  0.36799864]])"
       ]
      }
     ],
     "prompt_number": 171
    },
    {
     "cell_type": "code",
     "collapsed": false,
     "input": [
      "# Set an entire row or colum using a 1D boolean array\n",
      "data[names != 'Joe'] = 7\n",
      "data"
     ],
     "language": "python",
     "metadata": {},
     "outputs": [
      {
       "metadata": {},
       "output_type": "pyout",
       "prompt_number": 173,
       "text": [
        "array([[ 7.        ,  7.        ,  7.        ,  7.        ],\n",
        "       [ 0.41334492,  2.15893771,  0.33924324,  0.        ],\n",
        "       [ 7.        ,  7.        ,  7.        ,  7.        ],\n",
        "       [ 7.        ,  7.        ,  7.        ,  7.        ],\n",
        "       [ 7.        ,  7.        ,  7.        ,  7.        ],\n",
        "       [ 0.        ,  0.21967453,  0.        ,  0.        ],\n",
        "       [ 0.        ,  0.85539005,  1.63319157,  0.36799864]])"
       ]
      }
     ],
     "prompt_number": 173
    },
    {
     "cell_type": "code",
     "collapsed": false,
     "input": [
      "# Fancy Indexing\n",
      "########################################################\n",
      "\n",
      "# Create an 8. 4 array\n",
      "arr = np.empty((8, 4))\n",
      "# Beginning with 0, fill in each row with i+1 where i begins at 0\n",
      "for i in range(8):\n",
      "    arr[i] = i\n",
      "\n",
      "arr"
     ],
     "language": "python",
     "metadata": {},
     "outputs": [
      {
       "metadata": {},
       "output_type": "pyout",
       "prompt_number": 178,
       "text": [
        "array([[ 0.,  0.,  0.,  0.],\n",
        "       [ 1.,  1.,  1.,  1.],\n",
        "       [ 2.,  2.,  2.,  2.],\n",
        "       [ 3.,  3.,  3.,  3.],\n",
        "       [ 4.,  4.,  4.,  4.],\n",
        "       [ 5.,  5.,  5.,  5.],\n",
        "       [ 6.,  6.,  6.,  6.],\n",
        "       [ 7.,  7.,  7.,  7.]])"
       ]
      }
     ],
     "prompt_number": 178
    },
    {
     "cell_type": "code",
     "collapsed": false,
     "input": [
      "# Select a subset of rows, in a particular order\n",
      "arr[[4, 3, 0, 6]]"
     ],
     "language": "python",
     "metadata": {},
     "outputs": [
      {
       "metadata": {},
       "output_type": "pyout",
       "prompt_number": 179,
       "text": [
        "array([[ 4.,  4.,  4.,  4.],\n",
        "       [ 3.,  3.,  3.,  3.],\n",
        "       [ 0.,  0.,  0.,  0.],\n",
        "       [ 6.,  6.,  6.,  6.]])"
       ]
      }
     ],
     "prompt_number": 179
    },
    {
     "cell_type": "code",
     "collapsed": false,
     "input": [
      "# Use negative indices to select from the end\n",
      "arr[[-3, -7, -2]]"
     ],
     "language": "python",
     "metadata": {},
     "outputs": [
      {
       "metadata": {},
       "output_type": "pyout",
       "prompt_number": 181,
       "text": [
        "array([[ 5.,  5.,  5.,  5.],\n",
        "       [ 1.,  1.,  1.,  1.],\n",
        "       [ 6.,  6.,  6.,  6.]])"
       ]
      }
     ],
     "prompt_number": 181
    },
    {
     "cell_type": "code",
     "collapsed": false,
     "input": [
      "# Pass multiple index arrays; this selects a 1D\n",
      "# arry of elements corresponding to each tuble of indicies\n",
      "arr = np.arange(32).reshape((8, 4))\n",
      "arr"
     ],
     "language": "python",
     "metadata": {},
     "outputs": [
      {
       "metadata": {},
       "output_type": "pyout",
       "prompt_number": 186,
       "text": [
        "array([[ 0,  1,  2,  3],\n",
        "       [ 4,  5,  6,  7],\n",
        "       [ 8,  9, 10, 11],\n",
        "       [12, 13, 14, 15],\n",
        "       [16, 17, 18, 19],\n",
        "       [20, 21, 22, 23],\n",
        "       [24, 25, 26, 27],\n",
        "       [28, 29, 30, 31]])"
       ]
      }
     ],
     "prompt_number": 186
    },
    {
     "cell_type": "code",
     "collapsed": false,
     "input": [
      "# Example of passing multiple index arrays to the 8 x 4 array above\n",
      "# This example denotes essentially a coordinate in the array to select and return\n",
      "# This for arr[[1], [0] the value returned is 4, for arr[[5], [3]] the value is 23\n",
      "arr[[1, 5, 7, 2], [0, 3, 1, 2]]"
     ],
     "language": "python",
     "metadata": {},
     "outputs": [
      {
       "metadata": {},
       "output_type": "pyout",
       "prompt_number": 188,
       "text": [
        "array([ 4, 23, 29, 10])"
       ]
      }
     ],
     "prompt_number": 188
    },
    {
     "cell_type": "code",
     "collapsed": false,
     "input": [
      "# Using the np.ix_ function converts two 1D integer arrays into an indexer\n",
      "# that selects the square region; this performs the selection of elements in a row\n",
      "# by the in the order they are lister (0, 3 ,1, 2) for colums 1, 5, 7, 2\n",
      "# Which returns a 4 x 4 array\n",
      "# That makes sense since you have 4 rows selected and each colum in the row has an \n",
      "# Operation performed (in this case, just selecting the value) \n",
      "# Thus for arr[np.ix_([1], [0]) the value returned is 4, and so on.\n",
      "arr[np.ix_([1, 5, 7, 2], [0, 3, 1, 2])]"
     ],
     "language": "python",
     "metadata": {},
     "outputs": [
      {
       "metadata": {},
       "output_type": "pyout",
       "prompt_number": 190,
       "text": [
        "array([[ 4,  7,  5,  6],\n",
        "       [20, 23, 21, 22],\n",
        "       [28, 31, 29, 30],\n",
        "       [ 8, 11,  9, 10]])"
       ]
      }
     ],
     "prompt_number": 190
    },
    {
     "cell_type": "code",
     "collapsed": false,
     "input": [
      "# Example of selecting a value (in this case, 14)\n",
      "arr[[3], [2]]"
     ],
     "language": "python",
     "metadata": {},
     "outputs": [
      {
       "metadata": {},
       "output_type": "pyout",
       "prompt_number": 191,
       "text": [
        "array([14])"
       ]
      }
     ],
     "prompt_number": 191
    },
    {
     "cell_type": "code",
     "collapsed": false,
     "input": [
      "# Example of indexing in which the 4th (index 3) row is selected and the values at colum\n",
      "# 2, 1, 0, 3 are returned as a result\n",
      "arr[np.ix_([3], [2, 1, 0, 3])]"
     ],
     "language": "python",
     "metadata": {},
     "outputs": [
      {
       "metadata": {},
       "output_type": "pyout",
       "prompt_number": 194,
       "text": [
        "array([[14, 13, 12, 15]])"
       ]
      }
     ],
     "prompt_number": 194
    },
    {
     "cell_type": "code",
     "collapsed": false,
     "input": [
      "# Transposing Arrays and Swapping Axes\n",
      "###############################################################################\n",
      "# Create an array of values 0-14[inclusive] in a 3 x 5 array\n",
      "arr = np.arange(15).reshape((3, 5))\n",
      "arr"
     ],
     "language": "python",
     "metadata": {},
     "outputs": [
      {
       "metadata": {},
       "output_type": "pyout",
       "prompt_number": 196,
       "text": [
        "array([[ 0,  1,  2,  3,  4],\n",
        "       [ 5,  6,  7,  8,  9],\n",
        "       [10, 11, 12, 13, 14]])"
       ]
      }
     ],
     "prompt_number": 196
    },
    {
     "cell_type": "code",
     "collapsed": false,
     "input": [
      "# Transpose the array to a 5 x 3\n",
      "arr.T"
     ],
     "language": "python",
     "metadata": {},
     "outputs": [
      {
       "metadata": {},
       "output_type": "pyout",
       "prompt_number": 198,
       "text": [
        "array([[ 0,  5, 10],\n",
        "       [ 1,  6, 11],\n",
        "       [ 2,  7, 12],\n",
        "       [ 3,  8, 13],\n",
        "       [ 4,  9, 14]])"
       ]
      }
     ],
     "prompt_number": 198
    },
    {
     "cell_type": "code",
     "collapsed": false,
     "input": [
      "# Calculate the inner matrix product xTx\n",
      "arr = np.random.randn(6, 3)\n",
      "np.dot(arr.T, arr) # Multiply the 3 arrays of 6 elements by 6 arrays of 3 elements"
     ],
     "language": "python",
     "metadata": {},
     "outputs": [
      {
       "metadata": {},
       "output_type": "pyout",
       "prompt_number": 207,
       "text": [
        "array([[ 5.57929933,  3.28257448,  0.3435382 ],\n",
        "       [ 3.28257448,  5.6678873 , -0.47988281],\n",
        "       [ 0.3435382 , -0.47988281,  3.38922794]])"
       ]
      }
     ],
     "prompt_number": 207
    },
    {
     "cell_type": "code",
     "collapsed": false,
     "input": [
      "arr = np.random.randn(4, 3)\n",
      "np.dot (arr.T, arr) "
     ],
     "language": "python",
     "metadata": {},
     "outputs": [
      {
       "metadata": {},
       "output_type": "pyout",
       "prompt_number": 204,
       "text": [
        "array([[ 0.79004917,  0.11089976, -0.40684035],\n",
        "       [ 0.11089976,  5.69819026,  1.39357263],\n",
        "       [-0.40684035,  1.39357263,  2.45402583]])"
       ]
      }
     ],
     "prompt_number": 204
    },
    {
     "cell_type": "code",
     "collapsed": false,
     "input": [
      "# In higher dimensional arrays, transpose accepts a tuple of axis numbers  to permute\n",
      "# I have no idea what that means\n",
      "arr = np.arange(16).reshape((2, 2, 4)) # Create 2 groups of 2 x 4 arrays\n",
      "arr"
     ],
     "language": "python",
     "metadata": {},
     "outputs": [
      {
       "metadata": {},
       "output_type": "pyout",
       "prompt_number": 210,
       "text": [
        "array([[[ 0,  1,  2,  3],\n",
        "        [ 4,  5,  6,  7]],\n",
        "\n",
        "       [[ 8,  9, 10, 11],\n",
        "        [12, 13, 14, 15]]])"
       ]
      }
     ],
     "prompt_number": 210
    },
    {
     "cell_type": "code",
     "collapsed": false,
     "input": [
      "# Transpose the above\n",
      "arr.transpose((1, 0, 2)) # Transpose the 2nd row (index [1]) of the \n",
      "# First array with the 1st (index[0]) line of the 2nd array"
     ],
     "language": "python",
     "metadata": {},
     "outputs": [
      {
       "metadata": {},
       "output_type": "pyout",
       "prompt_number": 217,
       "text": [
        "array([[[ 0,  1,  2,  3],\n",
        "        [ 8,  9, 10, 11]],\n",
        "\n",
        "       [[ 4,  5,  6,  7],\n",
        "        [12, 13, 14, 15]]])"
       ]
      }
     ],
     "prompt_number": 217
    },
    {
     "cell_type": "code",
     "collapsed": false,
     "input": [
      "# To swap axes (not transpose)\n",
      "# In this case swap from 2 2x4 Arrays to 2 4x2 arrays\n",
      "# Transposing would create 4 2x2 arrays\n",
      "arr.swapaxes(1, 2)"
     ],
     "language": "python",
     "metadata": {},
     "outputs": [
      {
       "metadata": {},
       "output_type": "pyout",
       "prompt_number": 225,
       "text": [
        "array([[[ 0,  4],\n",
        "        [ 1,  5],\n",
        "        [ 2,  6],\n",
        "        [ 3,  7]],\n",
        "\n",
        "       [[ 8, 12],\n",
        "        [ 9, 13],\n",
        "        [10, 14],\n",
        "        [11, 15]]])"
       ]
      }
     ],
     "prompt_number": 225
    },
    {
     "cell_type": "code",
     "collapsed": false,
     "input": [
      "# Universal Functions: Fast Element-wise array functions\n",
      "#############################################################\n",
      "arr = np.arange(10)\n",
      "arr"
     ],
     "language": "python",
     "metadata": {},
     "outputs": [
      {
       "metadata": {},
       "output_type": "pyout",
       "prompt_number": 227,
       "text": [
        "array([0, 1, 2, 3, 4, 5, 6, 7, 8, 9])"
       ]
      }
     ],
     "prompt_number": 227
    },
    {
     "cell_type": "code",
     "collapsed": false,
     "input": [
      "# Take the square root of each element in the array\n",
      "# unary ufunc [See page 96 for complete listing]\n",
      "np.sqrt(arr)"
     ],
     "language": "python",
     "metadata": {},
     "outputs": [
      {
       "metadata": {},
       "output_type": "pyout",
       "prompt_number": 229,
       "text": [
        "array([ 0.        ,  1.        ,  1.41421356,  1.73205081,  2.        ,\n",
        "        2.23606798,  2.44948974,  2.64575131,  2.82842712,  3.        ])"
       ]
      }
     ],
     "prompt_number": 229
    },
    {
     "cell_type": "code",
     "collapsed": false,
     "input": [
      "# Binary ufunc\n",
      "x = randn(8)\n",
      "y= randn(8)\n",
      "\n",
      "np.maximum(x, y) # Element-wise maximum, Binary (2 arrays)"
     ],
     "language": "python",
     "metadata": {},
     "outputs": [
      {
       "metadata": {},
       "output_type": "pyout",
       "prompt_number": 233,
       "text": [
        "array([ 0.96256531,  0.95900548,  0.46360387,  0.5860419 ,  1.3336028 ,\n",
        "        0.84423511,  0.68425951,  1.08767999])"
       ]
      }
     ],
     "prompt_number": 233
    },
    {
     "cell_type": "code",
     "collapsed": false,
     "input": [
      "# Not terribly common, but ufunc returns multiple arrays for modf\n",
      "# a vectorized version of divmod (fractional and integral parts of a floating\n",
      "# point array are returned\n",
      "arr = randn(7) * 5\n",
      "np.modf(arr)"
     ],
     "language": "python",
     "metadata": {},
     "outputs": [
      {
       "metadata": {},
       "output_type": "pyout",
       "prompt_number": 235,
       "text": [
        "(array([-0.51516241, -0.47559348,  0.63200913, -0.46445919,  0.06813085,\n",
        "       -0.82626703,  0.14923014]),\n",
        " array([-6., -4.,  3., -8.,  0., -2.,  9.]))"
       ]
      }
     ],
     "prompt_number": 235
    },
    {
     "cell_type": "code",
     "collapsed": false,
     "input": [
      "# Data Processing Using Arrays\n",
      "#############################################################\n",
      "# The goal is replace explicit loops with array expressions\n",
      "# this is a process known as vectorization\n",
      "\n",
      "points = np.arange(-5, 5, 0.01) # 1000 equally spaced points\n",
      "\n",
      "xs, ys = np.meshgrid(points, points) # take two 1D arrays and produce 2 2D matrices"
     ],
     "language": "python",
     "metadata": {},
     "outputs": [],
     "prompt_number": 236
    },
    {
     "cell_type": "code",
     "collapsed": false,
     "input": [
      "# Display the 2 2D Matricies associated with ys (Values fall across columns,\n",
      "# Each column is in the range -5, 5)\n",
      "ys"
     ],
     "language": "python",
     "metadata": {},
     "outputs": [
      {
       "metadata": {},
       "output_type": "pyout",
       "prompt_number": 243,
       "text": [
        "array([[-5.  , -5.  , -5.  , ..., -5.  , -5.  , -5.  ],\n",
        "       [-4.99, -4.99, -4.99, ..., -4.99, -4.99, -4.99],\n",
        "       [-4.98, -4.98, -4.98, ..., -4.98, -4.98, -4.98],\n",
        "       ..., \n",
        "       [ 4.97,  4.97,  4.97, ...,  4.97,  4.97,  4.97],\n",
        "       [ 4.98,  4.98,  4.98, ...,  4.98,  4.98,  4.98],\n",
        "       [ 4.99,  4.99,  4.99, ...,  4.99,  4.99,  4.99]])"
       ]
      }
     ],
     "prompt_number": 243
    },
    {
     "cell_type": "code",
     "collapsed": false,
     "input": [
      "# Display the 2 2D Matricies associated with xs (Values fall across rows\n",
      "# Each row is a in the range -5, 5)\n",
      "xs"
     ],
     "language": "python",
     "metadata": {},
     "outputs": [
      {
       "metadata": {},
       "output_type": "pyout",
       "prompt_number": 244,
       "text": [
        "array([[-5.  , -4.99, -4.98, ...,  4.97,  4.98,  4.99],\n",
        "       [-5.  , -4.99, -4.98, ...,  4.97,  4.98,  4.99],\n",
        "       [-5.  , -4.99, -4.98, ...,  4.97,  4.98,  4.99],\n",
        "       ..., \n",
        "       [-5.  , -4.99, -4.98, ...,  4.97,  4.98,  4.99],\n",
        "       [-5.  , -4.99, -4.98, ...,  4.97,  4.98,  4.99],\n",
        "       [-5.  , -4.99, -4.98, ...,  4.97,  4.98,  4.99]])"
       ]
      }
     ],
     "prompt_number": 244
    },
    {
     "cell_type": "code",
     "collapsed": false,
     "input": [
      "import matplotlib.pyplot as plt # Convention\n",
      "\n",
      "z = np.sqrt(xs ** 2 + ys ** 2) # Evaluate sqrt(x^2 + y^2) across each x,y point in xs,ys\n",
      "\n",
      "z"
     ],
     "language": "python",
     "metadata": {},
     "outputs": [
      {
       "metadata": {},
       "output_type": "pyout",
       "prompt_number": 249,
       "text": [
        "array([[ 7.07106781,  7.06400028,  7.05693985, ...,  7.04988652,\n",
        "         7.05693985,  7.06400028],\n",
        "       [ 7.06400028,  7.05692568,  7.04985815, ...,  7.04279774,\n",
        "         7.04985815,  7.05692568],\n",
        "       [ 7.05693985,  7.04985815,  7.04278354, ...,  7.03571603,\n",
        "         7.04278354,  7.04985815],\n",
        "       ..., \n",
        "       [ 7.04988652,  7.04279774,  7.03571603, ...,  7.0286414 ,\n",
        "         7.03571603,  7.04279774],\n",
        "       [ 7.05693985,  7.04985815,  7.04278354, ...,  7.03571603,\n",
        "         7.04278354,  7.04985815],\n",
        "       [ 7.06400028,  7.05692568,  7.04985815, ...,  7.04279774,\n",
        "         7.04985815,  7.05692568]])"
       ]
      }
     ],
     "prompt_number": 249
    },
    {
     "cell_type": "code",
     "collapsed": false,
     "input": [
      "# Display the plot within the context of the notebook\n",
      "%pylab inline"
     ],
     "language": "python",
     "metadata": {},
     "outputs": [
      {
       "output_type": "stream",
       "stream": "stdout",
       "text": [
        "Populating the interactive namespace from numpy and matplotlib\n"
       ]
      }
     ],
     "prompt_number": 250
    },
    {
     "cell_type": "code",
     "collapsed": false,
     "input": [
      "plt.imshow(z, cmap=plt.cm.gray); plt.colorbar()\n",
      "plt.title(\"Image plot of $\\sqrt{x^2 + y^2}$ for a grid of values\")"
     ],
     "language": "python",
     "metadata": {},
     "outputs": [
      {
       "metadata": {},
       "output_type": "pyout",
       "prompt_number": 251,
       "text": [
        "<matplotlib.text.Text at 0x60045d0>"
       ]
      },
      {
       "metadata": {},
       "output_type": "display_data",
       "png": "[encoded data removed]",
       "text": [
        "<matplotlib.figure.Figure at 0x49504d0>"
       ]
      }
     ],
     "prompt_number": 251
    },
    {
     "cell_type": "code",
     "collapsed": false,
     "input": [
      "# Expressing Conditional Logic as Array Operations\n",
      "########################################################\n",
      "\n",
      "# Two arrays of values\n",
      "xarr = np.array([1.1, 1.2, 1.3, 1.4, 1.5])\n",
      "yarr = np.array([2.1, 2.2, 2.3, 2.4, 2.5])\n",
      "# Boolean array\n",
      "cond = np.array([True, False, True, True, False])\n",
      "\n",
      "# Take a value from xarr if the corresponding element in the cond array is True\n",
      "# otherwise take the value from yarr\n",
      "result = [(x if c else y)\n",
      "          for x, y, c in zip(xarr, yarr, cond)]\n",
      "result"
     ],
     "language": "python",
     "metadata": {},
     "outputs": [
      {
       "metadata": {},
       "output_type": "pyout",
       "prompt_number": 255,
       "text": [
        "[1.1000000000000001, 2.2000000000000002, 1.3, 1.3999999999999999, 2.5]"
       ]
      }
     ],
     "prompt_number": 255
    },
    {
     "cell_type": "code",
     "collapsed": false,
     "input": [
      "# Lets do the above using np.where, its way faster.\n",
      "result = np.where (cond, xarr, yarr) # Second or third arg can be scalars\n",
      "result"
     ],
     "language": "python",
     "metadata": {},
     "outputs": [
      {
       "metadata": {},
       "output_type": "pyout",
       "prompt_number": 257,
       "text": [
        "array([ 1.1,  2.2,  1.3,  1.4,  2.5])"
       ]
      }
     ],
     "prompt_number": 257
    },
    {
     "cell_type": "code",
     "collapsed": false,
     "input": [
      "# Create a randomly generated array of values (for follow up step)\n",
      "arr = randn(4, 4)\n",
      "arr"
     ],
     "language": "python",
     "metadata": {},
     "outputs": [
      {
       "metadata": {},
       "output_type": "pyout",
       "prompt_number": 258,
       "text": [
        "array([[-0.26710169,  0.46835473,  0.35134482,  0.86500737],\n",
        "       [-0.28925315, -1.41776071,  1.19294064, -0.27784569],\n",
        "       [ 0.07622959, -0.55790042, -1.96778828, -1.19867763],\n",
        "       [-0.98928529,  0.4447506 ,  0.99332897, -0.85970932]])"
       ]
      }
     ],
     "prompt_number": 258
    },
    {
     "cell_type": "code",
     "collapsed": false,
     "input": [
      "# Replace all positive values in array 'arr' with 2,\n",
      "# all negative values in array 'arr' with -2\n",
      "\n",
      "np.where(arr > 0, 2, -2)"
     ],
     "language": "python",
     "metadata": {},
     "outputs": [
      {
       "metadata": {},
       "output_type": "pyout",
       "prompt_number": 259,
       "text": [
        "array([[-2,  2,  2,  2],\n",
        "       [-2, -2,  2, -2],\n",
        "       [ 2, -2, -2, -2],\n",
        "       [-2,  2,  2, -2]])"
       ]
      }
     ],
     "prompt_number": 259
    },
    {
     "cell_type": "code",
     "collapsed": false,
     "input": [
      "# Set only the positive values to 2\n",
      "\n",
      "np.where(arr > 0, 2, arr) # If value in an array is greater than 0, set it 2\n",
      "                          # otherwise keep the original value in the source array"
     ],
     "language": "python",
     "metadata": {},
     "outputs": [
      {
       "metadata": {},
       "output_type": "pyout",
       "prompt_number": 262,
       "text": [
        "array([[-0.26710169,  2.        ,  2.        ,  2.        ],\n",
        "       [-0.28925315, -1.41776071,  2.        , -0.27784569],\n",
        "       [ 2.        , -0.55790042, -1.96778828, -1.19867763],\n",
        "       [-0.98928529,  2.        ,  2.        , -0.85970932]])"
       ]
      }
     ],
     "prompt_number": 262
    },
    {
     "cell_type": "code",
     "collapsed": false,
     "input": [
      "# Mathematical and Statistical Methods\n",
      "#############################################\n",
      "\n",
      "arr = np.random.randn(5, 4) # normally distributed data\n",
      "arr"
     ],
     "language": "python",
     "metadata": {},
     "outputs": [
      {
       "metadata": {},
       "output_type": "pyout",
       "prompt_number": 272,
       "text": [
        "array([[ 1.2026903 , -1.62752278, -0.34860097, -1.51220871],\n",
        "       [-1.28542298,  0.40185722,  0.49441289, -0.83054066],\n",
        "       [ 1.83132541, -3.38090498,  0.08360943,  0.86856814],\n",
        "       [ 0.75216112, -0.89108514,  0.14705722,  1.4103325 ],\n",
        "       [ 0.53362617, -0.57906564,  1.7304394 , -1.67979316]])"
       ]
      }
     ],
     "prompt_number": 272
    },
    {
     "cell_type": "code",
     "collapsed": false,
     "input": [
      "# Calculate mean value of array using array instance method\n",
      "arr.mean()"
     ],
     "language": "python",
     "metadata": {},
     "outputs": [
      {
       "metadata": {},
       "output_type": "pyout",
       "prompt_number": 273,
       "text": [
        "-0.13395326066913368"
       ]
      }
     ],
     "prompt_number": 273
    },
    {
     "cell_type": "code",
     "collapsed": false,
     "input": [
      "# Alternative way to calculate mean using NumPy function\n",
      "np.mean(arr)"
     ],
     "language": "python",
     "metadata": {},
     "outputs": [
      {
       "metadata": {},
       "output_type": "pyout",
       "prompt_number": 274,
       "text": [
        "-0.13395326066913368"
       ]
      }
     ],
     "prompt_number": 274
    },
    {
     "cell_type": "code",
     "collapsed": false,
     "input": [
      "# Calculate sum of values in an array\n",
      "arr.sum()"
     ],
     "language": "python",
     "metadata": {},
     "outputs": [
      {
       "metadata": {},
       "output_type": "pyout",
       "prompt_number": 275,
       "text": [
        "-2.6790652133826738"
       ]
      }
     ],
     "prompt_number": 275
    },
    {
     "cell_type": "code",
     "collapsed": false,
     "input": [
      "# Calculate sum of values using NumPy function\n",
      "np.sum(arr)"
     ],
     "language": "python",
     "metadata": {},
     "outputs": [
      {
       "metadata": {},
       "output_type": "pyout",
       "prompt_number": 276,
       "text": [
        "-2.6790652133826738"
       ]
      }
     ],
     "prompt_number": 276
    },
    {
     "cell_type": "code",
     "collapsed": false,
     "input": [
      "# You can pass an optional axis arguement to evaluate a given statistic over an axis\n",
      "arr.mean(axis=1) # 0 = mean of each column, 1 = mean of each row"
     ],
     "language": "python",
     "metadata": {},
     "outputs": [
      {
       "metadata": {},
       "output_type": "pyout",
       "prompt_number": 280,
       "text": [
        "array([-0.57141054, -0.30492338, -0.1493505 ,  0.35461643,  0.00130169])"
       ]
      }
     ],
     "prompt_number": 280
    },
    {
     "cell_type": "code",
     "collapsed": false,
     "input": [
      "arr.sum(0) # Each element is the sum of elements in each row of 'arr'"
     ],
     "language": "python",
     "metadata": {},
     "outputs": [
      {
       "metadata": {},
       "output_type": "pyout",
       "prompt_number": 283,
       "text": [
        "array([ 3.03438002, -6.07672132,  2.10691797, -1.74364189])"
       ]
      }
     ],
     "prompt_number": 283
    },
    {
     "cell_type": "code",
     "collapsed": false,
     "input": [
      "# Cumsum and cumprod do not aggregate\n",
      "arr = np.array([[0, 1, 2], [3, 4, 5], [6, 7, 8]])\n",
      "arr.cumsum(0)"
     ],
     "language": "python",
     "metadata": {},
     "outputs": [
      {
       "metadata": {},
       "output_type": "pyout",
       "prompt_number": 286,
       "text": [
        "array([[ 0,  1,  2],\n",
        "       [ 3,  5,  7],\n",
        "       [ 9, 12, 15]])"
       ]
      }
     ],
     "prompt_number": 286
    },
    {
     "cell_type": "code",
     "collapsed": false,
     "input": [
      "arr.cumprod(1)"
     ],
     "language": "python",
     "metadata": {},
     "outputs": [
      {
       "metadata": {},
       "output_type": "pyout",
       "prompt_number": 287,
       "text": [
        "array([[  0,   0,   0],\n",
        "       [  3,  12,  60],\n",
        "       [  6,  42, 336]])"
       ]
      }
     ],
     "prompt_number": 287
    },
    {
     "cell_type": "code",
     "collapsed": false,
     "input": [
      "# Method for Boolean Arrays\n",
      "##########################################\n",
      "arr = randn(100)\n",
      "# Utilize sum to count true values in an array, 0 = false, 1 = true\n",
      "# Thus conditions that result in true would be arr > 0 and false would be arr = 0 or arr < 1\n",
      "(arr > 0).sum() # Number of positive values"
     ],
     "language": "python",
     "metadata": {},
     "outputs": [
      {
       "metadata": {},
       "output_type": "pyout",
       "prompt_number": 288,
       "text": [
        "59"
       ]
      }
     ],
     "prompt_number": 288
    },
    {
     "cell_type": "code",
     "collapsed": false,
     "input": [
      "# Usage of boolean 'any'\n",
      "bools = np.array([False, False, True, False])\n",
      "bools.any() # are any values true?"
     ],
     "language": "python",
     "metadata": {},
     "outputs": [
      {
       "metadata": {},
       "output_type": "pyout",
       "prompt_number": 290,
       "text": [
        "True"
       ]
      }
     ],
     "prompt_number": 290
    },
    {
     "cell_type": "code",
     "collapsed": false,
     "input": [
      "bools.all() # Are all values true?"
     ],
     "language": "python",
     "metadata": {},
     "outputs": [
      {
       "metadata": {},
       "output_type": "pyout",
       "prompt_number": 291,
       "text": [
        "False"
       ]
      }
     ],
     "prompt_number": 291
    },
    {
     "cell_type": "code",
     "collapsed": false,
     "input": [
      "# Count the number of False values in the array 'bools'\n",
      "(bools == False).sum()"
     ],
     "language": "python",
     "metadata": {},
     "outputs": [
      {
       "metadata": {},
       "output_type": "pyout",
       "prompt_number": 296,
       "text": [
        "3"
       ]
      }
     ],
     "prompt_number": 296
    },
    {
     "cell_type": "code",
     "collapsed": false,
     "input": [
      "# Sorting\n",
      "##################################################################\n",
      "arr = randn(8)\n",
      "arr"
     ],
     "language": "python",
     "metadata": {},
     "outputs": [
      {
       "metadata": {},
       "output_type": "pyout",
       "prompt_number": 299,
       "text": [
        "array([ 0.99594934,  0.24008398,  1.16850947,  1.74302074, -0.96205534,\n",
        "        0.42869159,  0.11542787, -0.87672388])"
       ]
      }
     ],
     "prompt_number": 299
    },
    {
     "cell_type": "code",
     "collapsed": false,
     "input": [
      "# Sort the 8 random values of arr from low to high\n",
      "arr.sort()\n",
      "arr"
     ],
     "language": "python",
     "metadata": {},
     "outputs": [
      {
       "metadata": {},
       "output_type": "pyout",
       "prompt_number": 302,
       "text": [
        "array([-0.96205534, -0.87672388,  0.11542787,  0.24008398,  0.42869159,\n",
        "        0.99594934,  1.16850947,  1.74302074])"
       ]
      }
     ],
     "prompt_number": 302
    },
    {
     "cell_type": "code",
     "collapsed": false,
     "input": [
      "# Multidimensional arrays can have each 1D section of values sorted in place\n",
      "# along an axis number\n",
      "arr = randn(5, 3)\n",
      "arr"
     ],
     "language": "python",
     "metadata": {},
     "outputs": [
      {
       "metadata": {},
       "output_type": "pyout",
       "prompt_number": 305,
       "text": [
        "array([[ 0.02693259, -0.4503381 ,  0.99497621],\n",
        "       [-0.04570267, -0.37069855, -0.50764033],\n",
        "       [ 0.33163593, -1.08511359, -0.2216828 ],\n",
        "       [ 1.10460164, -1.17573517, -0.95738785],\n",
        "       [ 2.68595149, -0.46119251, -0.13068086]])"
       ]
      }
     ],
     "prompt_number": 305
    },
    {
     "cell_type": "code",
     "collapsed": false,
     "input": [
      "arr.sort(1) # Sort each row\n",
      "arr"
     ],
     "language": "python",
     "metadata": {},
     "outputs": [
      {
       "metadata": {},
       "output_type": "pyout",
       "prompt_number": 306,
       "text": [
        "array([[-0.4503381 ,  0.02693259,  0.99497621],\n",
        "       [-0.50764033, -0.37069855, -0.04570267],\n",
        "       [-1.08511359, -0.2216828 ,  0.33163593],\n",
        "       [-1.17573517, -0.95738785,  1.10460164],\n",
        "       [-0.46119251, -0.13068086,  2.68595149]])"
       ]
      }
     ],
     "prompt_number": 306
    },
    {
     "cell_type": "code",
     "collapsed": false,
     "input": [
      "# Usage of np.sort\n",
      "large_arr = randn(1000)\n",
      "large_arr.sort()\n",
      "\n",
      "large_arr[int(0.05 * len(large_arr))] # Calcualte 5% Quantile"
     ],
     "language": "python",
     "metadata": {},
     "outputs": [
      {
       "metadata": {},
       "output_type": "pyout",
       "prompt_number": 313,
       "text": [
        "-1.650044622889453"
       ]
      }
     ],
     "prompt_number": 313
    },
    {
     "cell_type": "code",
     "collapsed": false,
     "input": [
      "# Unique and Other Set Logic\n",
      "###############################################################\n",
      "names = np.array(['Bob', 'Joe', 'Will', 'Bob', 'Will', 'Joe', 'Joe'])\n",
      "np.unique(names)"
     ],
     "language": "python",
     "metadata": {},
     "outputs": [
      {
       "metadata": {},
       "output_type": "pyout",
       "prompt_number": 314,
       "text": [
        "array(['Bob', 'Joe', 'Will'], \n",
        "      dtype='|S4')"
       ]
      }
     ],
     "prompt_number": 314
    },
    {
     "cell_type": "code",
     "collapsed": false,
     "input": [
      "ints = np.array([3, 3, 3, 2, 2, 1, 1, 4, 4])\n",
      "np.unique(ints)"
     ],
     "language": "python",
     "metadata": {},
     "outputs": [
      {
       "metadata": {},
       "output_type": "pyout",
       "prompt_number": 315,
       "text": [
        "array([1, 2, 3, 4])"
       ]
      }
     ],
     "prompt_number": 315
    },
    {
     "cell_type": "code",
     "collapsed": false,
     "input": [
      "# np.in1d tests membership of the values in on array\n",
      "# in another, returning a boolean array\n",
      "values = np.array([6, 0, 0, 3, 2, 5, 6])\n",
      "np.in1d(values, [2, 3, 6])"
     ],
     "language": "python",
     "metadata": {},
     "outputs": [
      {
       "metadata": {},
       "output_type": "pyout",
       "prompt_number": 318,
       "text": [
        "array([ True, False, False,  True,  True, False,  True], dtype=bool)"
       ]
      }
     ],
     "prompt_number": 318
    },
    {
     "cell_type": "code",
     "collapsed": false,
     "input": [
      "# Find intersections between arrays\n",
      "arr1 = np.array ([1, 2, 3, 4])\n",
      "arr2 = np.array ([4, 5, 6, 7])\n",
      "np.intersect1d(arr1, arr2)"
     ],
     "language": "python",
     "metadata": {},
     "outputs": [
      {
       "metadata": {},
       "output_type": "pyout",
       "prompt_number": 319,
       "text": [
        "array([4])"
       ]
      }
     ],
     "prompt_number": 319
    },
    {
     "cell_type": "code",
     "collapsed": false,
     "input": [
      "# File Input and Output with Arrays\n",
      "arr = np.arange(10)\n",
      "np.save('some_array', arr) # saved as uncompressed, binary, .npy format"
     ],
     "language": "python",
     "metadata": {},
     "outputs": [],
     "prompt_number": 320
    },
    {
     "cell_type": "code",
     "collapsed": false,
     "input": [
      "# Load the saved array 'some_array.npy' \n",
      "np.load('some_array.npy')"
     ],
     "language": "python",
     "metadata": {},
     "outputs": [
      {
       "metadata": {},
       "output_type": "pyout",
       "prompt_number": 321,
       "text": [
        "array([0, 1, 2, 3, 4, 5, 6, 7, 8, 9])"
       ]
      }
     ],
     "prompt_number": 321
    },
    {
     "cell_type": "code",
     "collapsed": false,
     "input": [
      "# Save multiple arrays in a zip file\n",
      "np.savez('array_archive.zip', a = arr, b = arr)"
     ],
     "language": "python",
     "metadata": {},
     "outputs": [],
     "prompt_number": 323
    },
    {
     "cell_type": "code",
     "collapsed": false,
     "input": [
      "arch = np.load('array_archive.zip.npz')\n",
      "arch['b'] # dict object loads each array"
     ],
     "language": "python",
     "metadata": {},
     "outputs": [
      {
       "metadata": {},
       "output_type": "pyout",
       "prompt_number": 324,
       "text": [
        "array([0, 1, 2, 3, 4, 5, 6, 7, 8, 9])"
       ]
      }
     ],
     "prompt_number": 324
    },
    {
     "cell_type": "code",
     "collapsed": false,
     "input": [
      "# Saving and loading Text Files\n",
      "# to load a csv => np.loadtext('filename.txt', delimiter',')\n",
      "# np.savetext"
     ],
     "language": "python",
     "metadata": {},
     "outputs": []
    },
    {
     "cell_type": "code",
     "collapsed": false,
     "input": [
      "# Linear Algebra \n",
      "#WAT#WAT#WAT#WAT#WAT#WAT#WAT#WAT#WAT#WAT#WAT#WAT#WAT#WAT#WAT\n",
      "\n",
      "x = np.array([[1., 2., 3.], [4., 5., 6.]])\n",
      "y = np.array([[6., 23.], [-1, 7], [8, 9]])\n",
      "x"
     ],
     "language": "python",
     "metadata": {},
     "outputs": [
      {
       "metadata": {},
       "output_type": "pyout",
       "prompt_number": 325,
       "text": [
        "array([[ 1.,  2.,  3.],\n",
        "       [ 4.,  5.,  6.]])"
       ]
      }
     ],
     "prompt_number": 325
    },
    {
     "cell_type": "code",
     "collapsed": false,
     "input": [
      "# Calculate dot product of two matricies, x * y would be an elementwise operation\n",
      "x.dot(y) # equiv of np.dot(x, y)"
     ],
     "language": "python",
     "metadata": {},
     "outputs": [
      {
       "metadata": {},
       "output_type": "pyout",
       "prompt_number": 326,
       "text": [
        "array([[  28.,   64.],\n",
        "       [  67.,  181.]])"
       ]
      }
     ],
     "prompt_number": 326
    },
    {
     "cell_type": "code",
     "collapsed": false,
     "input": [
      "# Matrix product between a 2D array and a suitably sized 1D array results in a 1D array\n",
      "np.dot(x, np.ones(3))\n"
     ],
     "language": "python",
     "metadata": {},
     "outputs": [
      {
       "metadata": {},
       "output_type": "pyout",
       "prompt_number": 327,
       "text": [
        "array([  6.,  15.])"
       ]
      }
     ],
     "prompt_number": 327
    },
    {
     "cell_type": "code",
     "collapsed": false,
     "input": [
      "# numpy.linalg contains a standard set of matrix decompositions and things like\n",
      "# inverse and determinant\n",
      "from numpy.linalg import inv, qr\n",
      "\n",
      "X = randn(5, 5)\n",
      "\n",
      "mat = X.T.dot(X)\n",
      "\n",
      "inv(mat)"
     ],
     "language": "python",
     "metadata": {},
     "outputs": [
      {
       "metadata": {},
       "output_type": "pyout",
       "prompt_number": 328,
       "text": [
        "array([[ 0.52179311, -0.1158476 , -1.3584077 , -1.61064325,  0.16241216],\n",
        "       [-0.1158476 ,  0.47125017, -0.2597958 , -0.65621847,  0.25463407],\n",
        "       [-1.3584077 , -0.2597958 ,  4.84416639,  5.53538637, -0.88150021],\n",
        "       [-1.61064325, -0.65621847,  5.53538637,  8.59657236, -1.25962134],\n",
        "       [ 0.16241216,  0.25463407, -0.88150021, -1.25962134,  0.31649423]])"
       ]
      }
     ],
     "prompt_number": 328
    },
    {
     "cell_type": "code",
     "collapsed": false,
     "input": [
      "mat.dot(inv(mat))"
     ],
     "language": "python",
     "metadata": {},
     "outputs": [
      {
       "metadata": {},
       "output_type": "pyout",
       "prompt_number": 329,
       "text": [
        "array([[  1.00000000e+00,  -1.11022302e-16,   4.44089210e-16,\n",
        "         -5.32907052e-15,  -2.22044605e-16],\n",
        "       [ -7.77156117e-16,   1.00000000e+00,  -3.55271368e-15,\n",
        "         -3.55271368e-15,  -4.44089210e-16],\n",
        "       [  0.00000000e+00,   0.00000000e+00,   1.00000000e+00,\n",
        "         -4.44089210e-16,  -1.11022302e-16],\n",
        "       [ -1.11022302e-16,   5.55111512e-17,  -2.22044605e-16,\n",
        "          1.00000000e+00,  -1.11022302e-16],\n",
        "       [ -8.88178420e-16,   0.00000000e+00,   0.00000000e+00,\n",
        "          3.55271368e-15,   1.00000000e+00]])"
       ]
      }
     ],
     "prompt_number": 329
    },
    {
     "cell_type": "code",
     "collapsed": false,
     "input": [
      "w, r = qr(mat)\n",
      "r"
     ],
     "language": "python",
     "metadata": {},
     "outputs": [
      {
       "metadata": {},
       "output_type": "pyout",
       "prompt_number": 330,
       "text": [
        "array([[-27.89798899, -13.07059205,  -5.65260899,  -3.17885282,\n",
        "         -3.97532855],\n",
        "       [  0.        ,  -9.08040464,   2.26673944,   0.52052295,\n",
        "         18.24186616],\n",
        "       [  0.        ,   0.        ,  -0.89700919,   0.60645143,\n",
        "         -0.22090469],\n",
        "       [  0.        ,   0.        ,   0.        ,  -0.68279535,\n",
        "         -4.41872602],\n",
        "       [  0.        ,   0.        ,   0.        ,   0.        ,\n",
        "          0.62560227]])"
       ]
      }
     ],
     "prompt_number": 330
    },
    {
     "cell_type": "code",
     "collapsed": false,
     "input": [
      "# Random Number Generation\n",
      "##################################################################\n",
      "# Create a 4 by 4 array of samples from the standard normal distribution\n",
      "\n",
      "samples = np.random.normal(size=(4,4))\n",
      "samples"
     ],
     "language": "python",
     "metadata": {},
     "outputs": [
      {
       "metadata": {},
       "output_type": "pyout",
       "prompt_number": 332,
       "text": [
        "array([[-0.76270166, -1.32673617, -0.68294421,  0.8723092 ],\n",
        "       [ 0.52523762,  0.56177614, -0.88279385,  0.12384281],\n",
        "       [-0.08562962,  0.60695026, -0.91958611,  1.40626192],\n",
        "       [ 0.3844322 , -1.06162642,  1.09474084, -0.02359396]])"
       ]
      }
     ],
     "prompt_number": 332
    },
    {
     "cell_type": "code",
     "collapsed": false,
     "input": [
      "# EXAMPLE: Random Walks\n",
      "\n",
      "import random\n",
      "position = 0\n",
      "walk = [position]\n",
      "steps = 1000\n",
      "for i in xrange(steps):\n",
      "    step = 1 if random.randint(0, 1) else -1\n",
      "    position += step\n",
      "    walk.append(position)\n",
      "\n",
      "plot(walk[:100]) # Plot the first 100 values of the random walks"
     ],
     "language": "python",
     "metadata": {},
     "outputs": [
      {
       "metadata": {},
       "output_type": "pyout",
       "prompt_number": 337,
       "text": [
        "[<matplotlib.lines.Line2D at 0x7da7a90>]"
       ]
      },
      {
       "metadata": {},
       "output_type": "display_data",
       "png": "[encoded data removed]",
       "text": [
        "<matplotlib.figure.Figure at 0x6bf9690>"
       ]
      }
     ],
     "prompt_number": 337
    },
    {
     "cell_type": "code",
     "collapsed": false,
     "input": [
      "# walk is the cumulative sum of the random steps \n",
      "# this could be evaluated in an array expression\n",
      "\n",
      "nsteps = 1000\n",
      "draws = np.random.randint(0 ,2, size=nsteps)\n",
      "steps = np.where(draws > 0, 1, -1) # replace values of draws that are greater than 0 with 1\n",
      "walk = steps.cumsum()                                \n",
      "                  \n",
      "walk.min() # Find the minumum"
     ],
     "language": "python",
     "metadata": {},
     "outputs": [
      {
       "metadata": {},
       "output_type": "pyout",
       "prompt_number": 343,
       "text": [
        "-16"
       ]
      }
     ],
     "prompt_number": 343
    },
    {
     "cell_type": "code",
     "collapsed": false,
     "input": [
      "# Find the max number of steps taken\n",
      "walk.max()"
     ],
     "language": "python",
     "metadata": {},
     "outputs": [
      {
       "metadata": {},
       "output_type": "pyout",
       "prompt_number": 344,
       "text": [
        "59"
       ]
      }
     ],
     "prompt_number": 344
    },
    {
     "cell_type": "code",
     "collapsed": false,
     "input": [
      "# Find the first point at which a user took 10 steps\n",
      "(np.abs(walk) >= 10).argmax()"
     ],
     "language": "python",
     "metadata": {},
     "outputs": [
      {
       "metadata": {},
       "output_type": "pyout",
       "prompt_number": 345,
       "text": [
        "125"
       ]
      }
     ],
     "prompt_number": 345
    },
    {
     "cell_type": "code",
     "collapsed": false,
     "input": [
      "# Simulate many random walks at once\n",
      "nwalks = 5000\n",
      "nsteps = 1000\n",
      "draws = np.random.randint(0, 2, size=(nwalks, nsteps)) # 0 or 1\n",
      "steps = np.where(draws > 0, 1, -1)\n",
      "walks = steps.cumsum(1)\n",
      "\n",
      "walks"
     ],
     "language": "python",
     "metadata": {},
     "outputs": [
      {
       "metadata": {},
       "output_type": "pyout",
       "prompt_number": 348,
       "text": [
        "array([[ -1,  -2,  -3, ...,   8,   9,   8],\n",
        "       [  1,   2,   3, ...,  24,  23,  22],\n",
        "       [  1,   2,   3, ..., -60, -61, -60],\n",
        "       ..., \n",
        "       [  1,   2,   3, ...,  18,  19,  18],\n",
        "       [ -1,   0,   1, ...,   6,   7,   8],\n",
        "       [ -1,  -2,  -3, ..., -30, -29, -30]])"
       ]
      }
     ],
     "prompt_number": 348
    },
    {
     "cell_type": "code",
     "collapsed": false,
     "input": [
      "# Determine the max value obtained over all walks\n",
      "walks.max()"
     ],
     "language": "python",
     "metadata": {},
     "outputs": [
      {
       "metadata": {},
       "output_type": "pyout",
       "prompt_number": 349,
       "text": [
        "114"
       ]
      }
     ],
     "prompt_number": 349
    },
    {
     "cell_type": "code",
     "collapsed": false,
     "input": [
      "# Determine the minimum value obtained over all walks\n",
      "walks.min()"
     ],
     "language": "python",
     "metadata": {},
     "outputs": [
      {
       "metadata": {},
       "output_type": "pyout",
       "prompt_number": 350,
       "text": [
        "-130"
       ]
      }
     ],
     "prompt_number": 350
    },
    {
     "cell_type": "code",
     "collapsed": false,
     "input": [
      "# Compute the minumum crossing time  to 30 or -30\n",
      "hits30 = (np.abs(walks) >= 30).any(1)\n",
      "hits30"
     ],
     "language": "python",
     "metadata": {},
     "outputs": [
      {
       "metadata": {},
       "output_type": "pyout",
       "prompt_number": 352,
       "text": [
        "array([False,  True,  True, ..., False,  True,  True], dtype=bool)"
       ]
      }
     ],
     "prompt_number": 352
    },
    {
     "cell_type": "code",
     "collapsed": false,
     "input": [
      "# Deterime the number of times that 30 or -30 was hit\n",
      "hits30.sum()"
     ],
     "language": "python",
     "metadata": {},
     "outputs": [
      {
       "metadata": {},
       "output_type": "pyout",
       "prompt_number": 353,
       "text": [
        "3422"
       ]
      }
     ],
     "prompt_number": 353
    },
    {
     "cell_type": "code",
     "collapsed": false,
     "input": [
      "# Use the boolean array to select rows of walks\n",
      "# that cross the absolute 30 level \n",
      "crossing_times = (np.abs(walks[hits30]) >= 30).argmax(1)\n",
      "\n",
      "crossing_times.mean()"
     ],
     "language": "python",
     "metadata": {},
     "outputs": [
      {
       "metadata": {},
       "output_type": "pyout",
       "prompt_number": 355,
       "text": [
        "497.22852133255407"
       ]
      }
     ],
     "prompt_number": 355
    },
    {
     "cell_type": "code",
     "collapsed": false,
     "input": [],
     "language": "python",
     "metadata": {},
     "outputs": []
    }
   ],
   "metadata": {}
  }
 ]
}