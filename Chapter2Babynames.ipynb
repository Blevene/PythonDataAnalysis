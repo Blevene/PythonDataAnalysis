{
 "metadata": {
  "name": ""
 },
 "nbformat": 3,
 "nbformat_minor": 0,
 "worksheets": [
  {
   "cells": [
    {
     "cell_type": "code",
     "collapsed": false,
     "input": [
      "import pandas as pd\n",
      "\n",
      "names1880 = pd.read_csv('yob1880.txt', names=['name', 'sex', 'births'])\n",
      "\n",
      "names1880"
     ],
     "language": "python",
     "metadata": {},
     "outputs": [
      {
       "html": [
        "<pre>\n",
        "&ltclass 'pandas.core.frame.DataFrame'&gt\n",
        "Int64Index: 2000 entries, 0 to 1999\n",
        "Data columns (total 3 columns):\n",
        "name      2000  non-null values\n",
        "sex       2000  non-null values\n",
        "births    2000  non-null values\n",
        "dtypes: int64(1), object(2)\n",
        "</pre>"
       ],
       "metadata": {},
       "output_type": "pyout",
       "prompt_number": 6,
       "text": [
        "<class 'pandas.core.frame.DataFrame'>\n",
        "Int64Index: 2000 entries, 0 to 1999\n",
        "Data columns (total 3 columns):\n",
        "name      2000  non-null values\n",
        "sex       2000  non-null values\n",
        "births    2000  non-null values\n",
        "dtypes: int64(1), object(2)"
       ]
      }
     ],
     "prompt_number": 6
    },
    {
     "cell_type": "code",
     "collapsed": false,
     "input": [
      "# Add the total number of births (all names), sorted by sex\n",
      "names1880.groupby('sex').births.sum()"
     ],
     "language": "python",
     "metadata": {},
     "outputs": [
      {
       "metadata": {},
       "output_type": "pyout",
       "prompt_number": 7,
       "text": [
        "sex\n",
        "F       90993\n",
        "M      110493\n",
        "Name: births, dtype: int64"
       ]
      }
     ],
     "prompt_number": 7
    },
    {
     "cell_type": "code",
     "collapsed": false,
     "input": [
      "#Combine 1880-2010 into a single DataFrame for manipulation, and add a year field\n",
      "\n",
      "years = range(1880, 2011) #2010 - 1, as ranges aren't inclusive\n",
      "\n",
      "pieces = [] # Initialize list\n",
      "columns = ['name', 'sex', 'births']\n",
      "\n",
      "for year in years:\n",
      "    path = 'yob%d.txt' % year # Append the values of years into %d to create filename\n",
      "    frame = pd.read_csv(path, names=columns) # Construct frames for each year\n",
      "    \n",
      "    frame['year'] = year #Create an additional frame out of the years list\n",
      "    pieces.append(frame)\n",
      "    # Concantenate all the things\n",
      "    names = pd.concat(pieces, ignore_index=True) #ignore_index ignores the original row numbering\n",
      "    "
     ],
     "language": "python",
     "metadata": {},
     "outputs": [],
     "prompt_number": 8
    },
    {
     "cell_type": "code",
     "collapsed": false,
     "input": [
      "# Take a look at the new \"names\" DataFrame\n",
      "names"
     ],
     "language": "python",
     "metadata": {},
     "outputs": [
      {
       "html": [
        "<pre>\n",
        "&ltclass 'pandas.core.frame.DataFrame'&gt\n",
        "Int64Index: 1690784 entries, 0 to 1690783\n",
        "Data columns (total 4 columns):\n",
        "name      1690784  non-null values\n",
        "sex       1690784  non-null values\n",
        "births    1690784  non-null values\n",
        "year      1690784  non-null values\n",
        "dtypes: int64(2), object(2)\n",
        "</pre>"
       ],
       "metadata": {},
       "output_type": "pyout",
       "prompt_number": 9,
       "text": [
        "<class 'pandas.core.frame.DataFrame'>\n",
        "Int64Index: 1690784 entries, 0 to 1690783\n",
        "Data columns (total 4 columns):\n",
        "name      1690784  non-null values\n",
        "sex       1690784  non-null values\n",
        "births    1690784  non-null values\n",
        "year      1690784  non-null values\n",
        "dtypes: int64(2), object(2)"
       ]
      }
     ],
     "prompt_number": 9
    },
    {
     "cell_type": "code",
     "collapsed": false,
     "input": [
      "%matplotlib inline"
     ],
     "language": "python",
     "metadata": {},
     "outputs": [],
     "prompt_number": 13
    },
    {
     "cell_type": "code",
     "collapsed": false,
     "input": [
      "# Let's play with the data a bit\n",
      "\n",
      "total_births = names.pivot_table('births', rows='year', cols='sex', aggfunc=sum)\n",
      "\n",
      "total_births.plot(title='Total births by sex and year')"
     ],
     "language": "python",
     "metadata": {},
     "outputs": [
      {
       "metadata": {},
       "output_type": "pyout",
       "prompt_number": 14,
       "text": [
        "<matplotlib.axes.AxesSubplot at 0xde85e50>"
       ]
      },
      {
       "metadata": {},
       "output_type": "display_data",
       "png": "[encoded data removed]",
       "text": [
        "<matplotlib.figure.Figure at 0x2c20e50>"
       ]
      }
     ],
     "prompt_number": 14
    },
    {
     "cell_type": "code",
     "collapsed": false,
     "input": [
      "# Calculate the proportion of babies given each name relative to total # of births\n",
      "def add_prop(group):\n",
      "    # Integer division floors\n",
      "    births = group.births.astype(float)\n",
      "    \n",
      "    group['prop'] = births / births.sum() # Divide number of births in a year by total births\n",
      "    return group\n",
      "# Modify the existing dataset, sorted into year and sex, and adding the results of prop\n",
      "# for each year\n",
      "names = names.groupby(['year', 'sex']).apply(add_prop) "
     ],
     "language": "python",
     "metadata": {},
     "outputs": [],
     "prompt_number": 15
    },
    {
     "cell_type": "code",
     "collapsed": false,
     "input": [
      "names"
     ],
     "language": "python",
     "metadata": {},
     "outputs": [
      {
       "html": [
        "<pre>\n",
        "&ltclass 'pandas.core.frame.DataFrame'&gt\n",
        "Int64Index: 1690784 entries, 0 to 1690783\n",
        "Data columns (total 5 columns):\n",
        "name      1690784  non-null values\n",
        "sex       1690784  non-null values\n",
        "births    1690784  non-null values\n",
        "year      1690784  non-null values\n",
        "prop      1690784  non-null values\n",
        "dtypes: float64(1), int64(2), object(2)\n",
        "</pre>"
       ],
       "metadata": {},
       "output_type": "pyout",
       "prompt_number": 16,
       "text": [
        "<class 'pandas.core.frame.DataFrame'>\n",
        "Int64Index: 1690784 entries, 0 to 1690783\n",
        "Data columns (total 5 columns):\n",
        "name      1690784  non-null values\n",
        "sex       1690784  non-null values\n",
        "births    1690784  non-null values\n",
        "year      1690784  non-null values\n",
        "prop      1690784  non-null values\n",
        "dtypes: float64(1), int64(2), object(2)"
       ]
      }
     ],
     "prompt_number": 16
    }
   ],
   "metadata": {}
  }
 ]
}